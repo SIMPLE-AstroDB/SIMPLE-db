{
 "cells": [
  {
   "cell_type": "markdown",
   "id": "1ffa299a",
   "metadata": {},
   "source": [
    "## Demos"
   ]
  },
  {
   "cell_type": "markdown",
   "id": "4105070b",
   "metadata": {},
   "source": [
    "### Load in the Database"
   ]
  },
  {
   "cell_type": "code",
   "execution_count": null,
   "id": "f244041f",
   "metadata": {},
   "outputs": [
    {
     "name": "stderr",
     "output_type": "stream",
     "text": [
      "100%|██████████| 3619/3619 [00:20<00:00, 173.50it/s]\n"
     ]
    }
   ],
   "source": [
    "from astrodb_utils import load_astrodb\n",
    "from simple import REFERENCE_TABLES\n",
    "\n",
    "SCHEMA_PATH = \"simple/schema.yaml\" \n",
    "recreatedb = False #Set to True or False\n",
    "db = load_astrodb(\n",
    "     \"SIMPLE.sqlite\", \n",
    "     recreatedb=recreatedb,  \n",
    "     reference_tables=REFERENCE_TABLES, \n",
    "     felis_schema=SCHEMA_PATH\n",
    "     )"
   ]
  },
  {
   "cell_type": "markdown",
   "id": "7391b753",
   "metadata": {},
   "source": [
    "## Query the Database"
   ]
  },
  {
   "cell_type": "markdown",
   "id": "bc978748",
   "metadata": {},
   "source": [
    "### Using Astrodbkit Query Functions"
   ]
  },
  {
   "cell_type": "markdown",
   "id": "0ab71b4b",
   "metadata": {},
   "source": [
    "##### What is Astrodbkit? (Link: https://astrodbkit.readthedocs.io/en/latest/#exploring-the-schema)\n",
    "##### AstrodbKit is an astronomical database handler code built on top of SQLAlchemy. We can implement various functions from the python package to query the database in robust ways."
   ]
  },
  {
   "cell_type": "code",
   "execution_count": 2,
   "id": "73179c36",
   "metadata": {},
   "outputs": [],
   "source": [
    "from astropy.coordinates import SkyCoord  # High-level coordinates\n",
    "from astropy.coordinates import ICRS, Galactic, FK4, FK5  # Low-level frames\n",
    "from astropy.coordinates import Angle, Latitude, Longitude  # Angles\n",
    "import astropy.units as u"
   ]
  },
  {
   "cell_type": "markdown",
   "id": "15f7f93f",
   "metadata": {},
   "source": [
    "#### Lets check the tables in the database"
   ]
  },
  {
   "cell_type": "code",
   "execution_count": 3,
   "id": "b4fc7b20",
   "metadata": {},
   "outputs": [
    {
     "name": "stdout",
     "output_type": "stream",
     "text": [
      "CompanionList\n",
      "CompanionParameters\n",
      "Sources\n",
      "Publications\n",
      "CompanionRelationships\n",
      "Gravities\n",
      "Regimes\n",
      "Instruments\n",
      "Telescopes\n",
      "ModeledParameters\n",
      "Parameters\n",
      "Names\n",
      "Parallaxes\n",
      "Photometry\n",
      "PhotometryFilters\n",
      "ProperMotions\n",
      "RadialVelocities\n",
      "RotationalParameters\n",
      "Spectra\n",
      "SpectralTypes\n",
      "Versions\n"
     ]
    }
   ],
   "source": [
    "for table in db.metadata.tables:\n",
    "    print(table)"
   ]
  },
  {
   "cell_type": "markdown",
   "id": "22c1a568",
   "metadata": {},
   "source": [
    "#### Now that we know the tables,lets do a more detailed search into the tables and their content\n",
    "\n",
    "#### Lets look at the first 10 sources available within SIMPLE"
   ]
  },
  {
   "cell_type": "code",
   "execution_count": 4,
   "id": "0aaadc2c",
   "metadata": {},
   "outputs": [
    {
     "data": {
      "text/html": [
       "<div><i>Table length=10</i>\n",
       "<table id=\"table4408631008\" class=\"table-striped table-bordered table-condensed\">\n",
       "<thead><tr><th>source</th><th>ra</th><th>dec</th><th>epoch</th><th>equinox</th><th>shortname</th><th>reference</th><th>other_references</th><th>comments</th></tr></thead>\n",
       "<thead><tr><th>str24</th><th>float64</th><th>float64</th><th>object</th><th>object</th><th>object</th><th>str11</th><th>object</th><th>object</th></tr></thead>\n",
       "<tr><td>2MASS J03552014+1439297</td><td>58.83375</td><td>14.658056</td><td>None</td><td>None</td><td>None</td><td>Cruz07</td><td>None</td><td>None</td></tr>\n",
       "<tr><td>1RXS J115928.5-524717</td><td>179.864</td><td>-52.7886</td><td>None</td><td>2000</td><td>None</td><td>Hamb04.265</td><td>None</td><td>None</td></tr>\n",
       "<tr><td>ULAS J114925.58-014343.2</td><td>177.3569</td><td>-1.7287</td><td>None</td><td>2000</td><td>None</td><td>Burn10.1885</td><td>None</td><td>None</td></tr>\n",
       "<tr><td>DENIS-P J1756561-480509</td><td>269.2342</td><td>-48.086</td><td>None</td><td>2000</td><td>None</td><td>Phan08</td><td>None</td><td>None</td></tr>\n",
       "<tr><td>PSO J024.4369+09.1360</td><td>24.4372</td><td>9.1366</td><td>None</td><td>2000</td><td>None</td><td>Skrz16</td><td>None</td><td>Best20 lists discovery as Skrz16; Best20a</td></tr>\n",
       "<tr><td>SDSS J161420.50+004643.6</td><td>243.585</td><td>0.7785</td><td>None</td><td>2000</td><td>None</td><td>Hawl02</td><td>None</td><td>None</td></tr>\n",
       "<tr><td>SDSS J094903.15+264944.2</td><td>147.2633</td><td>26.8288</td><td>None</td><td>2000</td><td>None</td><td>Schm10.1808</td><td>None</td><td>None</td></tr>\n",
       "<tr><td>SDSS J083717.21-000018.0</td><td>129.3215835</td><td>-0.004972</td><td>None</td><td>None</td><td>0837-0000</td><td>Legg00</td><td>None</td><td>None</td></tr>\n",
       "<tr><td>2MASS J06080232-2944590</td><td>92.0097</td><td>-29.7497</td><td>None</td><td>2000</td><td>None</td><td>Cruz03</td><td>None</td><td>None</td></tr>\n",
       "<tr><td>2MASS J09373487+2931409</td><td>144.395292</td><td>29.528028</td><td>None</td><td>None</td><td>0937+2931</td><td>Burg02.421</td><td>None</td><td>None</td></tr>\n",
       "</table></div>"
      ],
      "text/plain": [
       "<Table length=10>\n",
       "         source          ...                  comments                \n",
       "         str24           ...                   object                 \n",
       "------------------------ ... -----------------------------------------\n",
       " 2MASS J03552014+1439297 ...                                      None\n",
       "   1RXS J115928.5-524717 ...                                      None\n",
       "ULAS J114925.58-014343.2 ...                                      None\n",
       " DENIS-P J1756561-480509 ...                                      None\n",
       "   PSO J024.4369+09.1360 ... Best20 lists discovery as Skrz16; Best20a\n",
       "SDSS J161420.50+004643.6 ...                                      None\n",
       "SDSS J094903.15+264944.2 ...                                      None\n",
       "SDSS J083717.21-000018.0 ...                                      None\n",
       " 2MASS J06080232-2944590 ...                                      None\n",
       " 2MASS J09373487+2931409 ...                                      None"
      ]
     },
     "execution_count": 4,
     "metadata": {},
     "output_type": "execute_result"
    }
   ],
   "source": [
    "db.query(db.Sources).limit(10).table()"
   ]
  },
  {
   "cell_type": "markdown",
   "id": "c95de403",
   "metadata": {},
   "source": [
    "#### Thats a lot of sources! Lets say you just want to find all sources that start with \"WISE\" \n",
    "#### We can use the search_object function for this\n",
    "#### Search_Object documentation: https://astrodbkit.readthedocs.io/en/latest/#identifier-name-search"
   ]
  },
  {
   "cell_type": "code",
   "execution_count": 5,
   "id": "fd90f00d",
   "metadata": {},
   "outputs": [
    {
     "name": "stdout",
     "output_type": "stream",
     "text": [
      "Using table 'Sources' with columns ['source'] for matching object names\n",
      "Using table 'Names' with columns ['other_name'] for matching object names\n"
     ]
    },
    {
     "data": {
      "text/html": [
       "<div><i>Table length=3145</i>\n",
       "<table id=\"table4402559744\" class=\"table-striped table-bordered table-condensed\">\n",
       "<thead><tr><th>source</th><th>ra</th><th>dec</th><th>epoch</th><th>equinox</th><th>shortname</th><th>reference</th><th>other_references</th><th>comments</th></tr></thead>\n",
       "<thead><tr><th>str32</th><th>float64</th><th>float64</th><th>object</th><th>object</th><th>object</th><th>str11</th><th>object</th><th>object</th></tr></thead>\n",
       "<tr><td>1RXS J115928.5-524717</td><td>179.864</td><td>-52.7886</td><td>None</td><td>2000</td><td>None</td><td>Hamb04.265</td><td>None</td><td>None</td></tr>\n",
       "<tr><td>2MASS J00011217+1535355</td><td>0.300708</td><td>15.593194</td><td>None</td><td>None</td><td>0001+1535</td><td>Knap04</td><td>None</td><td>None</td></tr>\n",
       "<tr><td>2MASS J00034227-2822410</td><td>0.926125</td><td>-28.378056</td><td>None</td><td>None</td><td>0003-2822</td><td>Cruz07</td><td>None</td><td>None</td></tr>\n",
       "<tr><td>2MASS J00040288-6410358</td><td>1.012</td><td>-64.176611</td><td>None</td><td>None</td><td>0004-6410</td><td>Kirk10</td><td>None</td><td>None</td></tr>\n",
       "<tr><td>2MASS J00043484-4044058</td><td>1.145166</td><td>-40.734944</td><td>None</td><td>None</td><td>0004-4044BC</td><td>Eros99</td><td>None</td><td>None</td></tr>\n",
       "<tr><td>2MASS J00044144-2058298</td><td>1.1728</td><td>-20.975</td><td>None</td><td>2000</td><td>None</td><td>Kend07</td><td>None</td><td>None</td></tr>\n",
       "<tr><td>2MASS J00045753-1709369</td><td>1.2398</td><td>-17.1603</td><td>None</td><td>2000</td><td>None</td><td>Crif05</td><td>None</td><td>None</td></tr>\n",
       "<tr><td>2MASS J00054844-2157196</td><td>1.4519</td><td>-21.9555</td><td>None</td><td>2000</td><td>None</td><td>Reyl04</td><td>None</td><td>None</td></tr>\n",
       "<tr><td>2MASS J00070787-2458042</td><td>1.7827917</td><td>-24.967833</td><td>None</td><td>None</td><td>0007-2458</td><td>Reyl04</td><td>None</td><td>None</td></tr>\n",
       "<tr><td>...</td><td>...</td><td>...</td><td>...</td><td>...</td><td>...</td><td>...</td><td>...</td><td>...</td></tr>\n",
       "<tr><td>WISEU J013522.46-221957.3</td><td>23.84358333333333</td><td>-22.332583333333332</td><td>None</td><td>None</td><td>None</td><td>Meis20.123</td><td>None</td><td>None</td></tr>\n",
       "<tr><td>WISEU J050305.68-564834.0</td><td>75.77366666666666</td><td>-56.809444444444445</td><td>None</td><td>None</td><td>None</td><td>Meis20.123</td><td>None</td><td>None</td></tr>\n",
       "<tr><td>WISP 030741.12-724357.5</td><td>46.9259</td><td>-72.7311</td><td>None</td><td>2000</td><td>None</td><td>Mast12.14</td><td>None</td><td>None</td></tr>\n",
       "<tr><td>WISP 123242.42-003306.7</td><td>188.1768</td><td>-0.5519</td><td>None</td><td>2000</td><td>None</td><td>Mast12.14</td><td>None</td><td>None</td></tr>\n",
       "<tr><td>Wolf 359</td><td>164.12027</td><td>7.014658</td><td>None</td><td>None</td><td>1056+0700</td><td>Gicl59</td><td>None</td><td>None</td></tr>\n",
       "<tr><td>Wolf 940B</td><td>326.6628</td><td>-0.1776</td><td>None</td><td>2000</td><td>None</td><td>Burn09</td><td>None</td><td>None</td></tr>\n",
       "<tr><td>[BMZ2001] S Ori J053814.5-024512</td><td>84.559125</td><td>-2.7532778</td><td>None</td><td>None</td><td>None</td><td>Missing</td><td>None</td><td>None</td></tr>\n",
       "<tr><td>[HB88] M18</td><td>319.6324</td><td>-45.0979</td><td>None</td><td>2000</td><td>None</td><td>Hawk88</td><td>None</td><td>None</td></tr>\n",
       "<tr><td>[HB88] M20</td><td>322.536</td><td>-44.7745</td><td>None</td><td>2000</td><td>None</td><td>Kirk11</td><td>None</td><td>Best20 lists discovery as Hawk88a; Kirk11</td></tr>\n",
       "<tr><td>[LDC2013] J160918.68-222923.9</td><td>242.32787</td><td>-22.48992</td><td>None</td><td>None</td><td>1609-2229</td><td>Lodi07.372</td><td>None</td><td>None</td></tr>\n",
       "</table></div>"
      ],
      "text/plain": [
       "<Table length=3145>\n",
       "             source              ...                  comments                \n",
       "             str32               ...                   object                 \n",
       "-------------------------------- ... -----------------------------------------\n",
       "           1RXS J115928.5-524717 ...                                      None\n",
       "         2MASS J00011217+1535355 ...                                      None\n",
       "         2MASS J00034227-2822410 ...                                      None\n",
       "         2MASS J00040288-6410358 ...                                      None\n",
       "         2MASS J00043484-4044058 ...                                      None\n",
       "         2MASS J00044144-2058298 ...                                      None\n",
       "         2MASS J00045753-1709369 ...                                      None\n",
       "         2MASS J00054844-2157196 ...                                      None\n",
       "         2MASS J00070787-2458042 ...                                      None\n",
       "                             ... ...                                       ...\n",
       "       WISEU J013522.46-221957.3 ...                                      None\n",
       "       WISEU J050305.68-564834.0 ...                                      None\n",
       "         WISP 030741.12-724357.5 ...                                      None\n",
       "         WISP 123242.42-003306.7 ...                                      None\n",
       "                        Wolf 359 ...                                      None\n",
       "                       Wolf 940B ...                                      None\n",
       "[BMZ2001] S Ori J053814.5-024512 ...                                      None\n",
       "                      [HB88] M18 ...                                      None\n",
       "                      [HB88] M20 ... Best20 lists discovery as Hawk88a; Kirk11\n",
       "   [LDC2013] J160918.68-222923.9 ...                                      None"
      ]
     },
     "execution_count": 5,
     "metadata": {},
     "output_type": "execute_result"
    }
   ],
   "source": [
    "db.search_object('wise', fmt='astropy')"
   ]
  },
  {
   "cell_type": "markdown",
   "id": "3d08ef03",
   "metadata": {},
   "source": [
    "#### So you found the object youre looking for - lets now narrow down that query."
   ]
  },
  {
   "cell_type": "markdown",
   "id": "d923dc1c",
   "metadata": {},
   "source": [
    "#### Lets see many names are associated with the object WISEPC J0333"
   ]
  },
  {
   "cell_type": "code",
   "execution_count": 6,
   "id": "06145ba6",
   "metadata": {},
   "outputs": [
    {
     "name": "stdout",
     "output_type": "stream",
     "text": [
      "No Simbad match for WISEPC J0333\n",
      "Including Simbad names, searching for: ['WISEPC J0333']\n",
      "Using table 'Sources' with columns ['source'] for matching object names\n",
      "Using table 'Names' with columns ['other_name'] for matching object names\n"
     ]
    },
    {
     "data": {
      "text/html": [
       "<div><i>Table length=3</i>\n",
       "<table id=\"table5732783104\" class=\"table-striped table-bordered table-condensed\">\n",
       "<thead><tr><th>source</th><th>other_name</th></tr></thead>\n",
       "<thead><tr><th>str26</th><th>str26</th></tr></thead>\n",
       "<tr><td>WISEPC J033349.34-585618.7</td><td>CWISE J033349.31-585619.8</td></tr>\n",
       "<tr><td>WISEPC J033349.34-585618.7</td><td>VHS J033349.30-585620.2</td></tr>\n",
       "<tr><td>WISEPC J033349.34-585618.7</td><td>WISEPC J033349.34-585618.7</td></tr>\n",
       "</table></div>"
      ],
      "text/plain": [
       "<Table length=3>\n",
       "          source                   other_name        \n",
       "          str26                      str26           \n",
       "-------------------------- --------------------------\n",
       "WISEPC J033349.34-585618.7  CWISE J033349.31-585619.8\n",
       "WISEPC J033349.34-585618.7    VHS J033349.30-585620.2\n",
       "WISEPC J033349.34-585618.7 WISEPC J033349.34-585618.7"
      ]
     },
     "execution_count": 6,
     "metadata": {},
     "output_type": "execute_result"
    }
   ],
   "source": [
    "db.search_object('WISEPC J0333', resolve_simbad=True, output_table='Names')"
   ]
  },
  {
   "cell_type": "markdown",
   "id": "3ac5f930",
   "metadata": {},
   "source": [
    "#### We know the source exist, so now we want to see all the data associated with the source. \n",
    "#### Inventory documentation: https://astrodbkit.readthedocs.io/en/latest/#inventory-search"
   ]
  },
  {
   "cell_type": "code",
   "execution_count": 7,
   "id": "b73b9b80",
   "metadata": {},
   "outputs": [
    {
     "name": "stdout",
     "output_type": "stream",
     "text": [
      "{\n",
      "    \"Sources\": [\n",
      "        {\n",
      "            \"source\": \"WISEPC J033349.34-585618.7\",\n",
      "            \"ra\": 53.4557,\n",
      "            \"dec\": -58.9384,\n",
      "            \"epoch\": null,\n",
      "            \"equinox\": \"2000\",\n",
      "            \"shortname\": null,\n",
      "            \"reference\": \"Kirk11\",\n",
      "            \"other_references\": null,\n",
      "            \"comments\": null\n",
      "        }\n",
      "    ],\n",
      "    \"Names\": [\n",
      "        {\n",
      "            \"other_name\": \"CWISE J033349.31-585619.8\"\n",
      "        },\n",
      "        {\n",
      "            \"other_name\": \"VHS J033349.30-585620.2\"\n",
      "        },\n",
      "        {\n",
      "            \"other_name\": \"WISEPC J033349.34-585618.7\"\n",
      "        }\n",
      "    ],\n",
      "    \"Parallaxes\": [\n",
      "        {\n",
      "            \"parallax\": 46.2,\n",
      "            \"parallax_error\": 3.7,\n",
      "            \"adopted\": true,\n",
      "            \"comments\": null,\n",
      "            \"reference\": \"Kirk21\"\n",
      "        }\n",
      "    ],\n",
      "    \"Photometry\": [\n",
      "        {\n",
      "            \"band\": \"IRAC.I1\",\n",
      "            \"magnitude\": 13.59,\n",
      "            \"magnitude_error\": 0.02,\n",
      "            \"telescope\": \"Spitzer\",\n",
      "            \"epoch\": null,\n",
      "            \"comments\": null,\n",
      "            \"reference\": \"Kirk11\"\n",
      "        },\n",
      "        {\n",
      "            \"band\": \"IRAC.I2\",\n",
      "            \"magnitude\": 13.3,\n",
      "            \"magnitude_error\": 0.02,\n",
      "            \"telescope\": \"Spitzer\",\n",
      "            \"epoch\": null,\n",
      "            \"comments\": null,\n",
      "            \"reference\": \"Kirk11\"\n",
      "        },\n",
      "        {\n",
      "            \"band\": \"VISTA.J\",\n",
      "            \"magnitude\": 15.73,\n",
      "            \"magnitude_error\": 0.005,\n",
      "            \"telescope\": \"VISTA\",\n",
      "            \"epoch\": null,\n",
      "            \"comments\": null,\n",
      "            \"reference\": \"McMa13\"\n",
      "        },\n",
      "        {\n",
      "            \"band\": \"WISE.W1\",\n",
      "            \"magnitude\": 14.037,\n",
      "            \"magnitude_error\": 0.017,\n",
      "            \"telescope\": \"WISE\",\n",
      "            \"epoch\": null,\n",
      "            \"comments\": \"Ingested from the Ultracool Sheet. Cross match to CatWISE done by Sanghi et al. 2023 (10.3847/1538-4357/acff66).\",\n",
      "            \"reference\": \"Maro21\"\n",
      "        },\n",
      "        {\n",
      "            \"band\": \"WISE.W2\",\n",
      "            \"magnitude\": 13.313,\n",
      "            \"magnitude_error\": 0.013,\n",
      "            \"telescope\": \"WISE\",\n",
      "            \"epoch\": null,\n",
      "            \"comments\": \"Ingested from the Ultracool Sheet. Cross match to CatWISE done by Sanghi et al. 2023 (10.3847/1538-4357/acff66).\",\n",
      "            \"reference\": \"Maro21\"\n",
      "        },\n",
      "        {\n",
      "            \"band\": \"WISE.W3\",\n",
      "            \"magnitude\": 12.22,\n",
      "            \"magnitude_error\": 0.225,\n",
      "            \"telescope\": \"WISE\",\n",
      "            \"epoch\": null,\n",
      "            \"comments\": \"Ingested from the Ultracool Sheet. Cross match to CatWISE done by Sanghi et al. 2023 (10.3847/1538-4357/acff66).\",\n",
      "            \"reference\": \"Cutr13\"\n",
      "        }\n",
      "    ],\n",
      "    \"ProperMotions\": [\n",
      "        {\n",
      "            \"mu_ra\": -126.0,\n",
      "            \"mu_ra_error\": 8.0,\n",
      "            \"mu_dec\": -607.0,\n",
      "            \"mu_dec_error\": 7.0,\n",
      "            \"adopted\": false,\n",
      "            \"comments\": null,\n",
      "            \"reference\": \"Kirk11\"\n",
      "        },\n",
      "        {\n",
      "            \"mu_ra\": -142.7,\n",
      "            \"mu_ra_error\": 3.8,\n",
      "            \"mu_dec\": -620.0,\n",
      "            \"mu_dec_error\": 3.4,\n",
      "            \"adopted\": true,\n",
      "            \"comments\": \"Ingested from the Ultracool Sheet. Cross match to CatWISE done by Sanghi et al. 2023 (10.3847/1538-4357/acff66).\",\n",
      "            \"reference\": \"Maro21\"\n",
      "        }\n",
      "    ],\n",
      "    \"SpectralTypes\": [\n",
      "        {\n",
      "            \"spectral_type_string\": \"T3\",\n",
      "            \"spectral_type_code\": 83.0,\n",
      "            \"spectral_type_error\": null,\n",
      "            \"regime\": \"nir\",\n",
      "            \"adopted\": null,\n",
      "            \"photometric\": null,\n",
      "            \"comments\": null,\n",
      "            \"reference\": \"Kirk11\"\n",
      "        }\n",
      "    ]\n",
      "}\n"
     ]
    }
   ],
   "source": [
    "data = db.inventory('WISEPC J033349.34-585618.7', pretty_print=True)"
   ]
  },
  {
   "cell_type": "markdown",
   "id": "78166d9c",
   "metadata": {},
   "source": [
    "#### Now lets do a broader search, say you want to find all objects with the publication reference \"Cruz18\" "
   ]
  },
  {
   "cell_type": "markdown",
   "id": "ab20b4a0",
   "metadata": {},
   "source": [
    "##### Search string documentation: https://astrodbkit.readthedocs.io/en/latest/#full-string-search"
   ]
  },
  {
   "cell_type": "markdown",
   "id": "6eaea4ee",
   "metadata": {},
   "source": [
    "#### Within astrodbkit, we allow for the parameter format (fmt) so that you can decide how you wish to visualize your query. Your options are pandas, astropy, or default (default is an astropy table)"
   ]
  },
  {
   "cell_type": "code",
   "execution_count": null,
   "id": "147cb0e8",
   "metadata": {},
   "outputs": [
    {
     "name": "stdout",
     "output_type": "stream",
     "text": [
      "Sources\n",
      "         source               ra      ... other_references   comments  \n",
      "----------------------- ------------- ... ---------------- ------------\n",
      "2MASS J15382417-1953116     234.60071 ...             None         None\n",
      "2MASS J00110940+5149236      2.789182 ...             None         None\n",
      "2MASS J15063706+2759544     226.65421 ...             None       galaxy\n",
      "2MASS J05583706-1339123     89.654445 ...             None         None\n",
      "2MASS J23490528+1833150       357.272 ...             None         None\n",
      "2MASS J23202927+4123415     350.12167 ...             None         None\n",
      "2MASS J22433237-1525260    340.884859 ...             None         None\n",
      "2MASS J12490458-3454080     192.26979 ...             None       galaxy\n",
      "2MASS J23364145+4822480    354.172713 ...             None         None\n",
      "2MASS J05574102-1333264     89.420954 ...             None        not M\n",
      "                    ...           ... ...              ...          ...\n",
      "2MASS J05574229-1333156     89.426209 ...             None not M/galaxy\n",
      "2MASS J23153135+0617146    348.880659 ...             None         None\n",
      "2MASS J23255604-0259508     351.48352 ...             None         None\n",
      "2MASS J02561474+1935213 44.0614166667 ...             None         None\n",
      "2MASS J04214954+1528598 65.4564166667 ...             None         None\n",
      "2MASS J08555320-0259207     133.97129 ...             None        giant\n",
      "2MASS J22400942+3848306    340.039273 ...             None         None\n",
      "2MASS J20151370-1252571     303.80692 ...             None       galaxy\n",
      "2MASS J13570485-3946356 209.270208333 ...             None         None\n",
      "2MASS J12475047-0152142    191.960334 ...             None         None\n",
      "Length = 24 rows\n",
      "Publications\n",
      "reference ...\n",
      "--------- ...\n",
      "   Cruz18 ...\n",
      "Spectra\n",
      "         source         ... other_references\n",
      "----------------------- ... ----------------\n",
      "2MASS J15382417-1953116 ...             None\n",
      "2MASS J00011217+1535355 ...             None\n",
      "2MASS J01443536-0716142 ...             None\n",
      "2MASS J15311344+1641282 ...             None\n",
      "2MASS J03101401-2756452 ...             None\n",
      "2MASS J15515237+0941148 ...             None\n",
      "2MASS J15515237+0941148 ...             None\n",
      "2MASS J15515237+0941148 ...             None\n",
      "2MASS J15515237+0941148 ...             None\n",
      "2MASS J15515237+0941148 ...             None\n",
      "                    ... ...              ...\n",
      "2MASS J21420580-3101162 ...             None\n",
      "2MASS J00332386-1521309 ...             None\n",
      "2MASS J13570485-3946356 ...             None\n",
      "2MASS J12475047-0152142 ...             None\n",
      "2MASS J22545194-2840253 ...             None\n",
      "             LP 655- 48 ...             None\n",
      "2MASS J12312141+4959234 ...             None\n",
      "2MASS J05341594-0631397 ...             None\n",
      "2MASS J15392137+6502364 ...             None\n",
      "2MASS J22490917+3205489 ...             None\n",
      "Length = 186 rows\n"
     ]
    },
    {
     "data": {
      "text/plain": [
       "{'Sources': <Table length=24>\n",
       "          source               ra      ... other_references   comments  \n",
       "          str23             float64    ...      object         object   \n",
       " ----------------------- ------------- ... ---------------- ------------\n",
       " 2MASS J15382417-1953116     234.60071 ...             None         None\n",
       " 2MASS J00110940+5149236      2.789182 ...             None         None\n",
       " 2MASS J15063706+2759544     226.65421 ...             None       galaxy\n",
       " 2MASS J05583706-1339123     89.654445 ...             None         None\n",
       " 2MASS J23490528+1833150       357.272 ...             None         None\n",
       " 2MASS J23202927+4123415     350.12167 ...             None         None\n",
       " 2MASS J22433237-1525260    340.884859 ...             None         None\n",
       " 2MASS J12490458-3454080     192.26979 ...             None       galaxy\n",
       " 2MASS J23364145+4822480    354.172713 ...             None         None\n",
       "                     ...           ... ...              ...          ...\n",
       " 2MASS J05574229-1333156     89.426209 ...             None not M/galaxy\n",
       " 2MASS J23153135+0617146    348.880659 ...             None         None\n",
       " 2MASS J23255604-0259508     351.48352 ...             None         None\n",
       " 2MASS J02561474+1935213 44.0614166667 ...             None         None\n",
       " 2MASS J04214954+1528598 65.4564166667 ...             None         None\n",
       " 2MASS J08555320-0259207     133.97129 ...             None        giant\n",
       " 2MASS J22400942+3848306    340.039273 ...             None         None\n",
       " 2MASS J20151370-1252571     303.80692 ...             None       galaxy\n",
       " 2MASS J13570485-3946356 209.270208333 ...             None         None\n",
       " 2MASS J12475047-0152142    191.960334 ...             None         None,\n",
       " 'Publications': <Table length=1>\n",
       " reference ...\n",
       "    str6   ...\n",
       " --------- ...\n",
       "    Cruz18 ...,\n",
       " 'Spectra': <Table length=186>\n",
       "          source         ... other_references\n",
       "          str24          ...      object     \n",
       " ----------------------- ... ----------------\n",
       " 2MASS J15382417-1953116 ...             None\n",
       " 2MASS J00011217+1535355 ...             None\n",
       " 2MASS J01443536-0716142 ...             None\n",
       " 2MASS J15311344+1641282 ...             None\n",
       " 2MASS J03101401-2756452 ...             None\n",
       " 2MASS J15515237+0941148 ...             None\n",
       " 2MASS J15515237+0941148 ...             None\n",
       " 2MASS J15515237+0941148 ...             None\n",
       " 2MASS J15515237+0941148 ...             None\n",
       "                     ... ...              ...\n",
       " 2MASS J21420580-3101162 ...             None\n",
       " 2MASS J00332386-1521309 ...             None\n",
       " 2MASS J13570485-3946356 ...             None\n",
       " 2MASS J12475047-0152142 ...             None\n",
       " 2MASS J22545194-2840253 ...             None\n",
       "              LP 655- 48 ...             None\n",
       " 2MASS J12312141+4959234 ...             None\n",
       " 2MASS J05341594-0631397 ...             None\n",
       " 2MASS J15392137+6502364 ...             None\n",
       " 2MASS J22490917+3205489 ...             None}"
      ]
     },
     "execution_count": 9,
     "metadata": {},
     "output_type": "execute_result"
    }
   ],
   "source": [
    "db.search_string('Cruz18', fuzzy_search=False, fmt='astropy')  #fmt options: pandas, astropy/table, default"
   ]
  },
  {
   "cell_type": "markdown",
   "id": "9291275e",
   "metadata": {},
   "source": [
    "#### Next example is query region, where you can use SkyCoord to create a coordinates object that query_region uses to query the database, in this example the Sources table. Make sure to use as accurate as a coordinate as possible. \n",
    "#### Query_Region Documentation: https://astrodbkit.readthedocs.io/en/latest/#region-spatial-search"
   ]
  },
  {
   "cell_type": "markdown",
   "id": "029fa8c4",
   "metadata": {},
   "source": [
    "##### Notes on Query Region: \n",
    "##### If you have the exact coordinates of the object you are searching you can use query_region as shown. However, if you don't you can enter the optional parameter \"radius=x\" to allow for a larger search radius, otherwise you will get back an empty query if your coordinates aren't precise enough"
   ]
  },
  {
   "cell_type": "code",
   "execution_count": null,
   "id": "84eca441",
   "metadata": {},
   "outputs": [
    {
     "name": "stdout",
     "output_type": "stream",
     "text": [
      "Query results with approximate coordinates (144.3, 29.5): 0\n",
      "Table Results: \n",
      " <No columns>\n",
      "The query returned an empty result because the coordinates aren't precise enough.\n",
      "Try using more precise coordinates or increasing the search radius.\n",
      "\n",
      "Query results with precise coordinates (144.395292, 29.528028): 1\n",
      "Table Results: \n",
      "          source             ra        dec    ... other_references comments\n",
      "----------------------- ---------- --------- ... ---------------- --------\n",
      "2MASS J09373487+2931409 144.395292 29.528028 ...             None     None\n"
     ]
    }
   ],
   "source": [
    "# An example of query with precise coordinates ----------\n",
    "precise_coords = db.query_region(SkyCoord(144.395292, 29.528028, frame='icrs', unit='deg'), output_table='Sources', ra_col='ra', dec_col='dec')  \n",
    "print(f'Table Results: \\n {precise_coords}\\n')\n",
    "\n",
    "# An example that queries the database incorrectly\n",
    "imprecise_coords = db.query_region(SkyCoord(144.3, 29.5, frame='icrs', unit='deg'), output_table='Sources', ra_col='ra', dec_col='dec') \n",
    "print(f'Table Results: \\n {imprecise_coords}\\n')\n",
    "\n",
    "# An example that queries the database using the radius parameter\n",
    "larger_search_area = db.query_region(SkyCoord(144.395, 29.528, radius=0.5*u.deg, frame='icrs', unit='deg'), output_table='Sources', ra_col='ra', dec_col='dec',)\n",
    "print(f'Table Results: \\n {len(larger_search_area)}\\n')"
   ]
  },
  {
   "cell_type": "markdown",
   "id": "fae1c2a9",
   "metadata": {},
   "source": [
    "#### Have a more complex query? Let use astrodb_utils.sql_query to run a SQL query directly \n",
    "##### AstrodbUtils's function sql_query acts as a wrapped for direct SQL queries, taking in two parameters: query (str), and fmt (str: pandas, astropy, defualt). "
   ]
  },
  {
   "cell_type": "code",
   "execution_count": 32,
   "id": "60df2dd6",
   "metadata": {},
   "outputs": [
    {
     "name": "stdout",
     "output_type": "stream",
     "text": [
      "\n",
      "Query with multiple conditions, filtering sources with dec > 0 and ra < 200 degrees:\n",
      "Showing the first 10 results out of 1334 sources:\n"
     ]
    },
    {
     "data": {
      "text/html": [
       "<div><i>Table length=10</i>\n",
       "<table id=\"table4408630624\" class=\"table-striped table-bordered table-condensed\">\n",
       "<thead><tr><th>source</th><th>ra</th><th>dec</th><th>epoch</th><th>equinox</th><th>shortname</th><th>reference</th><th>other_references</th><th>comments</th></tr></thead>\n",
       "<thead><tr><th>str24</th><th>float64</th><th>float64</th><th>object</th><th>object</th><th>object</th><th>str11</th><th>object</th><th>object</th></tr></thead>\n",
       "<tr><td>2MASS J03552014+1439297</td><td>58.83375</td><td>14.658056</td><td>None</td><td>None</td><td>None</td><td>Cruz07</td><td>None</td><td>None</td></tr>\n",
       "<tr><td>PSO J024.4369+09.1360</td><td>24.4372</td><td>9.1366</td><td>None</td><td>2000</td><td>None</td><td>Skrz16</td><td>None</td><td>Best20 lists discovery as Skrz16; Best20a</td></tr>\n",
       "<tr><td>SDSS J094903.15+264944.2</td><td>147.2633</td><td>26.8288</td><td>None</td><td>2000</td><td>None</td><td>Schm10.1808</td><td>None</td><td>None</td></tr>\n",
       "<tr><td>2MASS J09373487+2931409</td><td>144.395292</td><td>29.528028</td><td>None</td><td>None</td><td>0937+2931</td><td>Burg02.421</td><td>None</td><td>None</td></tr>\n",
       "<tr><td>HIP 6407B</td><td>20.5707</td><td>3.5232</td><td>None</td><td>2000</td><td>None</td><td>Deac14.119</td><td>None</td><td>None</td></tr>\n",
       "<tr><td>2MASS J11260310+4819256</td><td>171.5128</td><td>48.3239</td><td>None</td><td>2000</td><td>None</td><td>Kell15</td><td>None</td><td>None</td></tr>\n",
       "<tr><td>LHS 1937</td><td>115.27833</td><td>17.645833</td><td>None</td><td>None</td><td>None</td><td>Luyt79.5</td><td>None</td><td>None</td></tr>\n",
       "<tr><td>ULAS J095047.28+011734.3</td><td>147.6971</td><td>1.2925</td><td>None</td><td>2000</td><td>None</td><td>Burn13</td><td>None</td><td>None</td></tr>\n",
       "<tr><td>2MASSI J1029216+162652</td><td>157.3404</td><td>16.4477</td><td>None</td><td>2000</td><td>None</td><td>Kirk00</td><td>None</td><td>None</td></tr>\n",
       "<tr><td>ULAS J115229.68+035927.3</td><td>178.1235</td><td>3.9908</td><td>None</td><td>2000</td><td>None</td><td>Scho12</td><td>None</td><td>Best20 lists discovery as Scho12; Burn13</td></tr>\n",
       "</table></div>"
      ],
      "text/plain": [
       "<Table length=10>\n",
       "         source          ...                  comments                \n",
       "         str24           ...                   object                 \n",
       "------------------------ ... -----------------------------------------\n",
       " 2MASS J03552014+1439297 ...                                      None\n",
       "   PSO J024.4369+09.1360 ... Best20 lists discovery as Skrz16; Best20a\n",
       "SDSS J094903.15+264944.2 ...                                      None\n",
       " 2MASS J09373487+2931409 ...                                      None\n",
       "               HIP 6407B ...                                      None\n",
       " 2MASS J11260310+4819256 ...                                      None\n",
       "                LHS 1937 ...                                      None\n",
       "ULAS J095047.28+011734.3 ...                                      None\n",
       "  2MASSI J1029216+162652 ...                                      None\n",
       "ULAS J115229.68+035927.3 ...  Best20 lists discovery as Scho12; Burn13"
      ]
     },
     "execution_count": 32,
     "metadata": {},
     "output_type": "execute_result"
    }
   ],
   "source": [
    "from sqlalchemy import and_, or_\n",
    "\n",
    "#Uncomment the following lines to see how to use AND and OR in queries\n",
    "\n",
    "# Query with multiple conditions\n",
    "print(\"\\nQuery with multiple conditions, filtering sources with dec > 0 and ra < 200 degrees:\")\n",
    "print(f\"Showing the first 10 results out of {len(db.query(db.Sources).filter(db.Sources.c.dec > 0).filter(db.Sources.c.ra < 200).all())} sources:\")\n",
    "db.query(db.Sources).filter(db.Sources.c.dec > 0).filter(db.Sources.c.ra < 200).limit(10).table()\n",
    "\n",
    "# #  Query with AND\n",
    "# print(\"\\nQuery with AND, filtering sources with dec > 0 and ra > 200 degrees:\")\n",
    "# print(f\"Showing the first 10 results out of {len(db.query(db.Sources).filter(and_(db.Sources.c.dec > 0, db.Sources.c.ra > 200)).all())} sources:\")\n",
    "# db.query(db.Sources).filter(and_(db.Sources.c.dec > 0, db.Sources.c.ra > 200)).limit(10).table()\n",
    "\n",
    "\n",
    "# #  Query with OR\n",
    "# print(\"\\nQuery with OR, filtering sources with dec < 0 or ra > 200 degrees:\")\n",
    "# print(f\"Showing the first 10 results out of {len(db.query(db.Sources).filter(or_(db.Sources.c.dec < 0, db.Sources.c.ra > 200)).all())} sources:\")\n",
    "# db.query(db.Sources).filter(or_(db.Sources.c.dec < 0, db.Sources.c.ra > 200)).limit(10).table()\n"
   ]
  },
  {
   "cell_type": "markdown",
   "id": "69912aad",
   "metadata": {},
   "source": [
    "#### Query the count of sources in the database"
   ]
  },
  {
   "cell_type": "code",
   "execution_count": 33,
   "id": "19aa317e",
   "metadata": {},
   "outputs": [
    {
     "name": "stdout",
     "output_type": "stream",
     "text": [
      "Total number of objects in the SIMPLE database: 3619\n"
     ]
    }
   ],
   "source": [
    "# Query the total number of objects within SIMPLE\n",
    "result = db.sql_query(\"SELECT COUNT(*) FROM Sources\", fmt='astropy')\n",
    "total_objects = result[0][0]\n",
    "\n",
    "\n",
    "print(f\"Total number of objects in the SIMPLE database: {total_objects}\")"
   ]
  },
  {
   "cell_type": "markdown",
   "id": "7b517acd",
   "metadata": {},
   "source": [
    "#### Query Sources by String "
   ]
  },
  {
   "cell_type": "code",
   "execution_count": 34,
   "id": "6444304a",
   "metadata": {},
   "outputs": [
    {
     "name": "stdout",
     "output_type": "stream",
     "text": [
      "Found 616 WISE sources in the database\n",
      "\n",
      "First Three WISE Sources:\n",
      "          source                   ra               dec         epoch equinox shortname reference other_references comments\n",
      "-------------------------- ----------------- ------------------ ----- ------- --------- --------- ---------------- --------\n",
      "CWISEP J230158.30-645858.3 345.4929166666666 -64.98286111111112  None    None      None Meis20.74             None     None\n",
      "         source             ra     dec    epoch equinox shortname reference other_references comments\n",
      "------------------------ ------- -------- ----- ------- --------- --------- ---------------- --------\n",
      "WISE J200403.17-263751.7 301.013 -26.6293  None    2000      None    Thom13             None     None\n",
      "          source                  ra                 dec         epoch equinox shortname reference  other_references comments\n",
      "------------------------- ------------------ ------------------- ----- ------- --------- ---------- ---------------- --------\n",
      "WISEA J012834.87-280302.5 22.145291666666665 -28.050694444444446  None    None      None Meis20.123             None     None\n"
     ]
    }
   ],
   "source": [
    "wise_sources_query = \"SELECT * FROM Sources WHERE source LIKE '%WISE%'\"\n",
    "wise_sources = db.sql_query(wise_sources_query, fmt='astropy')\n",
    "\n",
    "print(f\"Found {len(wise_sources)} WISE sources in the database\")\n",
    "print(\"\\nFirst Three WISE Sources:\")\n",
    "for source in wise_sources[:3]:  # Display first 3 sources\n",
    "    print(source)"
   ]
  },
  {
   "cell_type": "markdown",
   "id": "a69f4515",
   "metadata": {},
   "source": [
    "#### Query by Program ID (\"PID\")"
   ]
  },
  {
   "cell_type": "code",
   "execution_count": 37,
   "id": "16631ad3",
   "metadata": {},
   "outputs": [
    {
     "name": "stdout",
     "output_type": "stream",
     "text": [
      "Found 55 spectra with PID references in the database\n"
     ]
    },
    {
     "data": {
      "text/html": [
       "<div><i>Table length=55</i>\n",
       "<table id=\"table5731856848\" class=\"table-striped table-bordered table-condensed\">\n",
       "<thead><tr><th>source</th><th>access_url</th><th>original_spectrum</th><th>local_spectrum</th><th>regime</th><th>telescope</th><th>instrument</th><th>mode</th><th>observation_date</th><th>comments</th><th>reference</th><th>other_references</th></tr></thead>\n",
       "<thead><tr><th>str24</th><th>str67</th><th>object</th><th>str43</th><th>str3</th><th>str7</th><th>str3</th><th>str7</th><th>str26</th><th>object</th><th>str8</th><th>object</th></tr></thead>\n",
       "<tr><td>VB 10</td><td>https://s3.amazonaws.com/bdnyc/Gl+752B+%285-35um%29.txt</td><td>None</td><td>$BDNYC_spectra/IRS/Gl 752B (5-35um).txt</td><td>mir</td><td>Spitzer</td><td>IRS</td><td>Missing</td><td>2005-10-11 00:00:00.000000</td><td>None</td><td>PID29</td><td>None</td></tr>\n",
       "<tr><td>2MASS J10042066+5022596</td><td>https://s3.amazonaws.com/bdnyc/IRS/G196-3B.txt</td><td>None</td><td>$BDNYC_spectra/IRS/G196-3B.txt</td><td>mir</td><td>Spitzer</td><td>IRS</td><td>Missing</td><td>2004-04-17 04:40:11.761000</td><td>None</td><td>PID51</td><td>None</td></tr>\n",
       "<tr><td>2MASS J10224821+5825453</td><td>https://s3.amazonaws.com/bdnyc/IRS/1022%2B5825.txt</td><td>None</td><td>$BDNYC_spectra/IRS/1022+5825.txt</td><td>mir</td><td>Spitzer</td><td>IRS</td><td>Missing</td><td>2005-04-16 13:45:42.752000</td><td>None</td><td>PID3136</td><td>None</td></tr>\n",
       "<tr><td>2MASS J12392727+5515371</td><td>https://s3.amazonaws.com/bdnyc/1239%2B5515.txt</td><td>None</td><td>$BDNYC_spectra/IRS/1239+5515.txt</td><td>mir</td><td>Spitzer</td><td>IRS</td><td>Missing</td><td>2004-04-18 02:01:06.605000</td><td>None</td><td>PID51</td><td>None</td></tr>\n",
       "<tr><td>2MASS J00001354+2554180</td><td>https://s3.amazonaws.com/bdnyc/IRS/0000%2B2554%20%285-14.5um%29.txt</td><td>None</td><td>$BDNYC_spectra/IRS/0000+2554 (5-14.5um).txt</td><td>mir</td><td>Spitzer</td><td>IRS</td><td>Missing</td><td>2005-12-18 00:00:00.000000</td><td>None</td><td>PID20514</td><td>None</td></tr>\n",
       "<tr><td>2MASS J07464256+2000321</td><td>https://s3.amazonaws.com/bdnyc/0746%2B2000.txt</td><td>None</td><td>$BDNYC_spectra/IRS/0746+2000.txt</td><td>mir</td><td>Spitzer</td><td>IRS</td><td>Missing</td><td>2004-03-27 00:32:11.624000</td><td>None</td><td>PID51</td><td>None</td></tr>\n",
       "<tr><td>2MASS J20575409-0252302</td><td>https://s3.amazonaws.com/bdnyc/2057-0252.txt</td><td>None</td><td>$BDNYC_spectra/IRS/2057-0252.txt</td><td>mir</td><td>Spitzer</td><td>IRS</td><td>SL</td><td>2005-05-25 01:56:38.317000</td><td>None</td><td>PID3136</td><td>None</td></tr>\n",
       "<tr><td>LP  440-52</td><td>https://s3.amazonaws.com/bdnyc/IRS/LHS377.txt</td><td>None</td><td>$BDNYC_spectra/IRS/LHS377.txt</td><td>mir</td><td>Spitzer</td><td>IRS</td><td>Missing</td><td>2005-07-01 00:00:00.000000</td><td>None</td><td>PID251</td><td>None</td></tr>\n",
       "<tr><td>2MASS J12373919+6526148</td><td>https://s3.amazonaws.com/bdnyc/IRS/1237%2B6526.txt</td><td>None</td><td>$BDNYC_spectra/IRS/1237+6526.txt</td><td>mir</td><td>Spitzer</td><td>IRS</td><td>SL</td><td>2004-03-03 20:10:57.708000</td><td>None</td><td>PID51</td><td>None</td></tr>\n",
       "<tr><td>...</td><td>...</td><td>...</td><td>...</td><td>...</td><td>...</td><td>...</td><td>...</td><td>...</td><td>...</td><td>...</td><td>...</td></tr>\n",
       "<tr><td>2MASS J00345157+0523050</td><td>https://s3.amazonaws.com/bdnyc/IRS/0034%2B0523.txt</td><td>None</td><td>$BDNYC_spectra/IRS/0034+0523.txt</td><td>mir</td><td>Spitzer</td><td>IRS</td><td>Missing</td><td>2006-01-19 00:00:00.000000</td><td>None</td><td>PID20544</td><td>None</td></tr>\n",
       "<tr><td>2MASS J10365305-3441380</td><td>https://s3.amazonaws.com/bdnyc/IRS/1036-3441.txt</td><td>None</td><td>$BDNYC_spectra/IRS/1036-3441.txt</td><td>mir</td><td>Spitzer</td><td>IRS</td><td>Missing</td><td>2006-01-23 19:26:34.143000</td><td>None</td><td>PID51</td><td>None</td></tr>\n",
       "<tr><td>2MASS J17210390+3344160</td><td>https://s3.amazonaws.com/bdnyc/IRS/1721%2B3344.txt</td><td>None</td><td>$BDNYC_spectra/IRS/1721+3344.txt</td><td>mir</td><td>Spitzer</td><td>IRS</td><td>Missing</td><td>2008-08-01 00:00:00.000000</td><td>None</td><td>PID50059</td><td>None</td></tr>\n",
       "<tr><td>2MASS J11145133-2618235</td><td>https://s3.amazonaws.com/bdnyc/IRS/1114-2618.txt</td><td>None</td><td>$BDNYC_spectra/IRS/1114-2618.txt</td><td>mir</td><td>Spitzer</td><td>IRS</td><td>Missing</td><td>2006-02-01 00:00:00.000000</td><td>None</td><td>PID20544</td><td>None</td></tr>\n",
       "<tr><td>2MASS J10170754+1308398</td><td>https://s3.amazonaws.com/bdnyc/1017%2B1308.txt</td><td>None</td><td>$BDNYC_spectra/IRS/1017+1308.txt</td><td>mir</td><td>Spitzer</td><td>IRS</td><td>SL</td><td>2009-01-19 18:00:15.977000</td><td>None</td><td>PID50367</td><td>None</td></tr>\n",
       "<tr><td>DENIS-P J144137.2-094558</td><td>https://s3.amazonaws.com/bdnyc/IRS/1441-0945.txt</td><td>None</td><td>$BDNYC_spectra/IRS/1441-0945.txt</td><td>mir</td><td>Spitzer</td><td>IRS</td><td>Missing</td><td>2009-03-06 07:56:18.586000</td><td>None</td><td>PID50367</td><td>None</td></tr>\n",
       "<tr><td>2MASS J04455387-3048204</td><td>https://s3.amazonaws.com/bdnyc/0445-3048.txt</td><td>None</td><td>$BDNYC_spectra/IRS/0445-3048.txt</td><td>mir</td><td>Spitzer</td><td>IRS</td><td>SL</td><td>2005-03-14 12:24:05.373000</td><td>None</td><td>PID3136</td><td>None</td></tr>\n",
       "<tr><td>2MASS J05012406-0010452</td><td>https://s3.amazonaws.com/bdnyc/0501-0010.txt</td><td>None</td><td>$BDNYC_spectra/IRS/0501-0010.txt</td><td>mir</td><td>Spitzer</td><td>IRS</td><td>SL</td><td>2008-11-12 03:43:34.999000</td><td>None</td><td>PID50059</td><td>None</td></tr>\n",
       "<tr><td>GJ 1111</td><td>https://s3.amazonaws.com/bdnyc/0829%2B2646+%2814-35um%29.txt</td><td>None</td><td>$BDNYC_spectra/IRS/0829+2646 (14-35um).txt</td><td>mir</td><td>Spitzer</td><td>IRS</td><td>LL</td><td>2006-05-18 00:00:00.000000</td><td>None</td><td>PID20409</td><td>None</td></tr>\n",
       "<tr><td>2MASS J04390101-2353083</td><td>https://s3.amazonaws.com/bdnyc/0439-2353.txt</td><td>None</td><td>$BDNYC_spectra/IRS/0439-2353.txt</td><td>mir</td><td>Spitzer</td><td>IRS</td><td>SL</td><td>2005-02-18 03:53:36.569000</td><td>None</td><td>PID3136</td><td>None</td></tr>\n",
       "</table></div>"
      ],
      "text/plain": [
       "<Table length=55>\n",
       "         source          ... other_references\n",
       "         str24           ...      object     \n",
       "------------------------ ... ----------------\n",
       "                   VB 10 ...             None\n",
       " 2MASS J10042066+5022596 ...             None\n",
       " 2MASS J10224821+5825453 ...             None\n",
       " 2MASS J12392727+5515371 ...             None\n",
       " 2MASS J00001354+2554180 ...             None\n",
       " 2MASS J07464256+2000321 ...             None\n",
       " 2MASS J20575409-0252302 ...             None\n",
       "              LP  440-52 ...             None\n",
       " 2MASS J12373919+6526148 ...             None\n",
       "                     ... ...              ...\n",
       " 2MASS J00345157+0523050 ...             None\n",
       " 2MASS J10365305-3441380 ...             None\n",
       " 2MASS J17210390+3344160 ...             None\n",
       " 2MASS J11145133-2618235 ...             None\n",
       " 2MASS J10170754+1308398 ...             None\n",
       "DENIS-P J144137.2-094558 ...             None\n",
       " 2MASS J04455387-3048204 ...             None\n",
       " 2MASS J05012406-0010452 ...             None\n",
       "                 GJ 1111 ...             None\n",
       " 2MASS J04390101-2353083 ...             None"
      ]
     },
     "execution_count": 37,
     "metadata": {},
     "output_type": "execute_result"
    }
   ],
   "source": [
    "spectra_pid_query = \"SELECT * FROM Spectra WHERE reference LIKE 'PID%'\"\n",
    "print(f\"Found {len(db.sql_query(spectra_pid_query))} spectra with PID references in the database\")\n",
    "db.sql_query(spectra_pid_query, fmt='astropy')\n"
   ]
  },
  {
   "cell_type": "markdown",
   "id": "f77f960b",
   "metadata": {},
   "source": [
    "### Using SQLAlchemy Query Functions"
   ]
  },
  {
   "cell_type": "markdown",
   "id": "c3a3234d",
   "metadata": {},
   "source": [
    "#### SQL via SQLalchemy "
   ]
  },
  {
   "cell_type": "code",
   "execution_count": 16,
   "id": "0f1277e8",
   "metadata": {},
   "outputs": [
    {
     "name": "stdout",
     "output_type": "stream",
     "text": [
      "First 10 Sources (Raw SQL):\n",
      "Source: 2MASS J03552014+1439297, RA: 58.83375, Dec: 14.658056\n",
      "Source: 1RXS J115928.5-524717, RA: 179.864, Dec: -52.7886\n",
      "Source: ULAS J114925.58-014343.2, RA: 177.3569, Dec: -1.7287\n",
      "Source: DENIS-P J1756561-480509, RA: 269.2342, Dec: -48.086\n",
      "Source: PSO J024.4369+09.1360, RA: 24.4372, Dec: 9.1366\n",
      "Source: SDSS J161420.50+004643.6, RA: 243.585, Dec: 0.7785\n",
      "Source: SDSS J094903.15+264944.2, RA: 147.2633, Dec: 26.8288\n",
      "Source: SDSS J083717.21-000018.0, RA: 129.3215835, Dec: -0.004972\n",
      "Source: 2MASS J06080232-2944590, RA: 92.0097, Dec: -29.7497\n",
      "Source: 2MASS J09373487+2931409, RA: 144.395292, Dec: 29.528028\n",
      "\n",
      "Spectra from IRS instrument (first 5):\n",
      "Source: SDSS J083717.21-000018.0, Telescope: Spitzer\n",
      "\n",
      "WISE sources with spectra (first 5):\n",
      "Source: WISE J235402.77+024015.0, Telescope: JWST, Instrument: MIRI\n",
      "Source: WISE J235402.77+024015.0, Telescope: JWST, Instrument: NIRSpec\n",
      "Source: WISE J235402.77+024015.0, Telescope: HST, Instrument: WFC3\n",
      "Source: WISEP J031325.96+780744.2, Telescope: JWST, Instrument: MIRI\n",
      "Source: WISEP J031325.96+780744.2, Telescope: JWST, Instrument: NIRSpec\n",
      "\n",
      "Top 3 references by number of sources:\n",
      "Reference: Schm10.1808, Count: 208\n",
      "Reference: Reid08.1290, Count: 206\n",
      "Reference: West08, Count: 194\n",
      "Source: 2MASS J09373487+2931409, Telescope: Spitzer\n",
      "\n",
      "WISE sources with spectra (first 5):\n",
      "Source: WISE J235402.77+024015.0, Telescope: JWST, Instrument: MIRI\n",
      "Source: WISE J235402.77+024015.0, Telescope: JWST, Instrument: NIRSpec\n",
      "Source: WISE J235402.77+024015.0, Telescope: HST, Instrument: WFC3\n",
      "Source: WISEP J031325.96+780744.2, Telescope: JWST, Instrument: MIRI\n",
      "Source: WISEP J031325.96+780744.2, Telescope: JWST, Instrument: NIRSpec\n",
      "\n",
      "Top 3 references by number of sources:\n",
      "Reference: Schm10.1808, Count: 208\n",
      "Reference: Reid08.1290, Count: 206\n",
      "Reference: West08, Count: 194\n",
      "Source: 2MASS J09373487+2931409, Telescope: Spitzer\n",
      "\n",
      "WISE sources with spectra (first 5):\n",
      "Source: WISE J235402.77+024015.0, Telescope: JWST, Instrument: MIRI\n",
      "Source: WISE J235402.77+024015.0, Telescope: JWST, Instrument: NIRSpec\n",
      "Source: WISE J235402.77+024015.0, Telescope: HST, Instrument: WFC3\n",
      "Source: WISEP J031325.96+780744.2, Telescope: JWST, Instrument: MIRI\n",
      "Source: WISEP J031325.96+780744.2, Telescope: JWST, Instrument: NIRSpec\n",
      "\n",
      "Top 3 references by number of sources:\n",
      "Reference: Schm10.1808, Count: 208\n",
      "Reference: Reid08.1290, Count: 206\n",
      "Reference: West08, Count: 194\n",
      "Source: VB 10, Telescope: Spitzer\n",
      "\n",
      "WISE sources with spectra (first 5):\n",
      "Source: WISE J235402.77+024015.0, Telescope: JWST, Instrument: MIRI\n",
      "Source: WISE J235402.77+024015.0, Telescope: JWST, Instrument: NIRSpec\n",
      "Source: WISE J235402.77+024015.0, Telescope: HST, Instrument: WFC3\n",
      "Source: WISEP J031325.96+780744.2, Telescope: JWST, Instrument: MIRI\n",
      "Source: WISEP J031325.96+780744.2, Telescope: JWST, Instrument: NIRSpec\n",
      "\n",
      "Top 3 references by number of sources:\n",
      "Reference: Schm10.1808, Count: 208\n",
      "Reference: Reid08.1290, Count: 206\n",
      "Reference: West08, Count: 194\n",
      "Source: VB 10, Telescope: Spitzer\n",
      "\n",
      "WISE sources with spectra (first 5):\n",
      "Source: WISE J235402.77+024015.0, Telescope: JWST, Instrument: MIRI\n",
      "Source: WISE J235402.77+024015.0, Telescope: JWST, Instrument: NIRSpec\n",
      "Source: WISE J235402.77+024015.0, Telescope: HST, Instrument: WFC3\n",
      "Source: WISEP J031325.96+780744.2, Telescope: JWST, Instrument: MIRI\n",
      "Source: WISEP J031325.96+780744.2, Telescope: JWST, Instrument: NIRSpec\n",
      "\n",
      "Top 3 references by number of sources:\n",
      "Reference: Schm10.1808, Count: 208\n",
      "Reference: Reid08.1290, Count: 206\n",
      "Reference: West08, Count: 194\n"
     ]
    }
   ],
   "source": [
    "from sqlalchemy import text\n",
    "\n",
    "# Using connection from the existing database\n",
    "with db.engine.connect() as conn:\n",
    "    \n",
    "    # Query all sources\n",
    "    result = conn.execute(text(\"SELECT * FROM Sources LIMIT 10\"))\n",
    "    print(\"First 10 Sources (Raw SQL):\")\n",
    "    for row in result:\n",
    "        print(f\"Source: {row.source}, RA: {row.ra}, Dec: {row.dec}\")\n",
    "\n",
    "    # Find spectra with a specific instrument\n",
    "    result = conn.execute(\n",
    "        text(\"SELECT * FROM Spectra WHERE instrument = :instrument LIMIT 5\"),\n",
    "        {\"instrument\": \"IRS\"}\n",
    "    )\n",
    "    print(\"\\nSpectra from IRS instrument (first 5):\")\n",
    "    for row in result:\n",
    "        print(f\"Source: {row.source}, Telescope: {row.telescope}\")\n",
    "\n",
    "        # Join query - find all spectra for sources with names containing \"WISE\"\n",
    "        result = conn.execute(\n",
    "            text(\"\"\"\n",
    "            SELECT Sources.source, Spectra.telescope, Spectra.instrument\n",
    "            FROM Sources \n",
    "            JOIN Spectra ON Sources.source = Spectra.source\n",
    "            WHERE Sources.source LIKE :pattern\n",
    "            LIMIT 5\n",
    "            \"\"\"),\n",
    "            {\"pattern\": \"%WISE%\"}\n",
    "        )\n",
    "        print(\"\\nWISE sources with spectra (first 5):\")\n",
    "        for row in result:\n",
    "            print(f\"Source: {row.source}, Telescope: {row.telescope}, Instrument: {row.instrument}\")\n",
    "            \n",
    "        # Aggregate query - count sources by publication reference\n",
    "        result = conn.execute(\n",
    "            text(\"\"\"\n",
    "            SELECT reference, COUNT(*) as count \n",
    "            FROM Sources \n",
    "            GROUP BY reference \n",
    "            ORDER BY count DESC\n",
    "            LIMIT 3\n",
    "            \"\"\")\n",
    "        )\n",
    "        print(\"\\nTop 3 references by number of sources:\")\n",
    "        for row in result:\n",
    "            print(f\"Reference: {row.reference}, Count: {row.count}\")\n"
   ]
  }
 ],
 "metadata": {
  "kernelspec": {
   "display_name": "simple-db",
   "language": "python",
   "name": "python3"
  },
  "language_info": {
   "codemirror_mode": {
    "name": "ipython",
    "version": 3
   },
   "file_extension": ".py",
   "mimetype": "text/x-python",
   "name": "python",
   "nbconvert_exporter": "python",
   "pygments_lexer": "ipython3",
   "version": "3.12.10"
  }
 },
 "nbformat": 4,
 "nbformat_minor": 5
}
