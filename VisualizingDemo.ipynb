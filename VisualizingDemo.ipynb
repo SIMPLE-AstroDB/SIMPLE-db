{
 "cells": [
  {
   "cell_type": "markdown",
   "id": "7f0252a2",
   "metadata": {},
   "source": [
    "# Visualizing Spectra with SIMPLE "
   ]
  },
  {
   "cell_type": "markdown",
   "id": "1fba3339",
   "metadata": {},
   "source": [
    "### Brief Overview of Querying SIMPLE"
   ]
  },
  {
   "cell_type": "markdown",
   "id": "1f81a665",
   "metadata": {},
   "source": [
    "##### To better understand querying, we recommend you run through the QueryDemo.ipynb notebook before you begin here. Once you feel ready regarding querying, come back here for some fun with visualization. "
   ]
  },
  {
   "cell_type": "markdown",
   "id": "dc4378d7",
   "metadata": {},
   "source": [
    "##### In this notebook, we will mostly use the AstroDBUtils package to query the database. Find more information on this package here: https://astrodbkit.readthedocs.io/en/latest/#exploring-the-schema"
   ]
  },
  {
   "cell_type": "code",
   "execution_count": null,
   "id": "80b0998f",
   "metadata": {},
   "outputs": [],
   "source": [
    "import astropy.units as u\n",
    "import numpy as np\n",
    "from specutils import Spectrum\n",
    "import matplotlib.pyplot as plt\n",
    "from astropy.io import fits\n",
    "from matplotlib.ticker import MultipleLocator, FormatStrFormatter, AutoMinorLocator\n",
    "plt.rcParams['font.family'] = 'serif'\n",
    "from sqlalchemy import and_, or_"
   ]
  },
  {
   "cell_type": "code",
   "execution_count": null,
   "id": "bf58d6a0",
   "metadata": {},
   "outputs": [],
   "source": [
    "# Load in the database\n",
    "from astrodb_utils import load_astrodb\n",
    "from simple import REFERENCE_TABLES\n",
    "\n",
    "SCHEMA_PATH = \"simple/schema.yaml\" \n",
    "db = load_astrodb(\n",
    "     \"SIMPLE.sqlite\", \n",
    "     recreatedb=True,  \n",
    "     reference_tables=REFERENCE_TABLES, \n",
    "     felis_schema=SCHEMA_PATH\n",
    "     )"
   ]
  },
  {
   "cell_type": "code",
   "execution_count": null,
   "id": "b45dd3a7",
   "metadata": {},
   "outputs": [],
   "source": [
    "# "
   ]
  },
  {
   "cell_type": "code",
   "execution_count": null,
   "id": "5cb40fb9",
   "metadata": {},
   "outputs": [],
   "source": []
  },
  {
   "cell_type": "code",
   "execution_count": 2,
   "id": "25e1a4a3",
   "metadata": {},
   "outputs": [],
   "source": [
    "#load in relevant packages\n",
    "\n",
    "#build template plot\n",
    "\n",
    "#plot example spectra\n",
    "\n",
    "#plot multiple spectra from one source\n",
    "\n",
    "#plot multiple spectra from multiple sources\n",
    "\n"
   ]
  }
 ],
 "metadata": {
  "kernelspec": {
   "display_name": "simple-db",
   "language": "python",
   "name": "python3"
  },
  "language_info": {
   "codemirror_mode": {
    "name": "ipython",
    "version": 3
   },
   "file_extension": ".py",
   "mimetype": "text/x-python",
   "name": "python",
   "nbconvert_exporter": "python",
   "pygments_lexer": "ipython3",
   "version": "3.12.10"
  }
 },
 "nbformat": 4,
 "nbformat_minor": 5
}
