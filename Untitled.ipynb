{
 "cells": [
  {
   "cell_type": "code",
   "execution_count": 1,
   "id": "d74c3d4f-448e-42e3-bd26-aa6a940682ba",
   "metadata": {},
   "outputs": [],
   "source": [
    "from astrodbkit2.astrodb import create_database,Database\n",
    "from simple.schema import *"
   ]
  },
  {
   "cell_type": "code",
   "execution_count": null,
   "id": "892be5f7-fd2a-402f-b800-621914a4636d",
   "metadata": {},
   "outputs": [],
   "source": []
  }
 ],
 "metadata": {
  "kernelspec": {
   "display_name": "Python 3 (ipykernel)",
   "language": "python",
   "name": "python3"
  },
  "language_info": {
   "codemirror_mode": {
    "name": "ipython",
    "version": 3
   },
   "file_extension": ".py",
   "mimetype": "text/x-python",
   "name": "python",
   "nbconvert_exporter": "python",
   "pygments_lexer": "ipython3",
   "version": "3.11.5"
  }
 },
 "nbformat": 4,
 "nbformat_minor": 5
}
