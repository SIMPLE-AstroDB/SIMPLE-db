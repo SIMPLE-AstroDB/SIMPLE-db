{
 "cells": [
  {
   "cell_type": "code",
   "execution_count": 2,
   "id": "9f7f359d-6861-47c4-b818-a63e9dd04f75",
   "metadata": {},
   "outputs": [],
   "source": [
    "from astrodb_utils.spectra import check_spectrum_plottable"
   ]
  },
  {
   "cell_type": "code",
   "execution_count": 16,
   "id": "e41b5332-c61c-4c72-8b6c-f68249c4ac01",
   "metadata": {},
   "outputs": [
    {
     "name": "stderr",
     "output_type": "stream",
     "text": [
      "WARNING: non-ASCII characters are present in the FITS file header and have been replaced by \"?\" characters [astropy.io.fits.util]\n",
      "WARNING: Header block contains null bytes instead of spaces for padding, and is not FITS-compliant. Nulls may be replaced with spaces upon writing. [astropy.io.fits.header]\n",
      "WARNING: AstropyDeprecationWarning: The indent function is deprecated and may be removed in a future version.\n",
      "        Use textwrap.indent() instead. [astropy.io.fits.hdu.hdulist]\n",
      "WARNING: VerifyWarning: Error validating header for HDU #0 (note: Astropy uses zero-based indexing).\n",
      "    Header size is not multiple of 2880: 25923\n",
      "There may be extra bytes after the last HDU or the file is corrupted. [astropy.io.fits.hdu.hdulist]\n",
      "Unable to load file as Spectrum1D object:/Users/arothermich/Desktop/Research/Projects/CoMover_paper/ManuscriptSubmission/Spectra/Secondary/AUS_0230+2405_tc.fits\n"
     ]
    },
    {
     "ename": "AstroDBError",
     "evalue": "Unable to load file as Spectrum1D object:/Users/arothermich/Desktop/Research/Projects/CoMover_paper/ManuscriptSubmission/Spectra/Secondary/AUS_0230+2405_tc.fits",
     "output_type": "error",
     "traceback": [
      "\u001b[0;31m---------------------------------------------------------------------------\u001b[0m",
      "\u001b[0;31mIORegistryError\u001b[0m                           Traceback (most recent call last)",
      "File \u001b[0;32m~/Code/anaconda3/envs/simple-db/lib/python3.13/site-packages/astrodb_utils/spectra.py:29\u001b[0m, in \u001b[0;36mcheck_spectrum_class\u001b[0;34m(spectrum, raise_error)\u001b[0m\n\u001b[1;32m     28\u001b[0m \u001b[38;5;28;01mtry\u001b[39;00m:\n\u001b[0;32m---> 29\u001b[0m     \u001b[43mSpectrum1D\u001b[49m\u001b[38;5;241;43m.\u001b[39;49m\u001b[43mread\u001b[49m\u001b[43m(\u001b[49m\u001b[43mspectrum\u001b[49m\u001b[43m)\u001b[49m\n\u001b[1;32m     30\u001b[0m     \u001b[38;5;28;01mreturn\u001b[39;00m \u001b[38;5;28;01mTrue\u001b[39;00m\n",
      "File \u001b[0;32m~/Code/anaconda3/envs/simple-db/lib/python3.13/site-packages/astropy/nddata/mixins/ndio.py:59\u001b[0m, in \u001b[0;36mNDDataRead.__call__\u001b[0;34m(self, *args, **kwargs)\u001b[0m\n\u001b[1;32m     58\u001b[0m \u001b[38;5;28;01mdef\u001b[39;00m\u001b[38;5;250m \u001b[39m\u001b[38;5;21m__call__\u001b[39m(\u001b[38;5;28mself\u001b[39m, \u001b[38;5;241m*\u001b[39margs, \u001b[38;5;241m*\u001b[39m\u001b[38;5;241m*\u001b[39mkwargs):\n\u001b[0;32m---> 59\u001b[0m     \u001b[38;5;28;01mreturn\u001b[39;00m \u001b[38;5;28;43mself\u001b[39;49m\u001b[38;5;241;43m.\u001b[39;49m\u001b[43mregistry\u001b[49m\u001b[38;5;241;43m.\u001b[39;49m\u001b[43mread\u001b[49m\u001b[43m(\u001b[49m\u001b[38;5;28;43mself\u001b[39;49m\u001b[38;5;241;43m.\u001b[39;49m\u001b[43m_cls\u001b[49m\u001b[43m,\u001b[49m\u001b[43m \u001b[49m\u001b[38;5;241;43m*\u001b[39;49m\u001b[43margs\u001b[49m\u001b[43m,\u001b[49m\u001b[43m \u001b[49m\u001b[38;5;241;43m*\u001b[39;49m\u001b[38;5;241;43m*\u001b[39;49m\u001b[43mkwargs\u001b[49m\u001b[43m)\u001b[49m\n",
      "File \u001b[0;32m~/Code/anaconda3/envs/simple-db/lib/python3.13/site-packages/astropy/io/registry/core.py:211\u001b[0m, in \u001b[0;36mUnifiedInputRegistry.read\u001b[0;34m(self, cls, format, cache, *args, **kwargs)\u001b[0m\n\u001b[1;32m    209\u001b[0m         fileobj \u001b[38;5;241m=\u001b[39m args[\u001b[38;5;241m0\u001b[39m]\n\u001b[0;32m--> 211\u001b[0m \u001b[38;5;28mformat\u001b[39m \u001b[38;5;241m=\u001b[39m \u001b[38;5;28;43mself\u001b[39;49m\u001b[38;5;241;43m.\u001b[39;49m\u001b[43m_get_valid_format\u001b[49m\u001b[43m(\u001b[49m\n\u001b[1;32m    212\u001b[0m \u001b[43m    \u001b[49m\u001b[38;5;124;43m\"\u001b[39;49m\u001b[38;5;124;43mread\u001b[39;49m\u001b[38;5;124;43m\"\u001b[39;49m\u001b[43m,\u001b[49m\u001b[43m \u001b[49m\u001b[38;5;28;43mcls\u001b[39;49m\u001b[43m,\u001b[49m\u001b[43m \u001b[49m\u001b[43mpath\u001b[49m\u001b[43m,\u001b[49m\u001b[43m \u001b[49m\u001b[43mfileobj\u001b[49m\u001b[43m,\u001b[49m\u001b[43m \u001b[49m\u001b[43margs\u001b[49m\u001b[43m,\u001b[49m\u001b[43m \u001b[49m\u001b[43mkwargs\u001b[49m\n\u001b[1;32m    213\u001b[0m \u001b[43m\u001b[49m\u001b[43m)\u001b[49m\n\u001b[1;32m    215\u001b[0m \u001b[38;5;66;03m# We need to keep track the original path in case it uses a\u001b[39;00m\n\u001b[1;32m    216\u001b[0m \u001b[38;5;66;03m# relative path to the parquet binary\u001b[39;00m\n",
      "File \u001b[0;32m~/Code/anaconda3/envs/simple-db/lib/python3.13/site-packages/astropy/io/registry/base.py:357\u001b[0m, in \u001b[0;36m_UnifiedIORegistryBase._get_valid_format\u001b[0;34m(self, mode, cls, path, fileobj, args, kwargs)\u001b[0m\n\u001b[1;32m    356\u001b[0m     format_table_str \u001b[38;5;241m=\u001b[39m \u001b[38;5;28mself\u001b[39m\u001b[38;5;241m.\u001b[39m_get_format_table_str(\u001b[38;5;28mcls\u001b[39m, mode\u001b[38;5;241m.\u001b[39mcapitalize())\n\u001b[0;32m--> 357\u001b[0m     \u001b[38;5;28;01mraise\u001b[39;00m IORegistryError(\n\u001b[1;32m    358\u001b[0m         \u001b[38;5;124m\"\u001b[39m\u001b[38;5;124mFormat could not be identified based on the\u001b[39m\u001b[38;5;124m\"\u001b[39m\n\u001b[1;32m    359\u001b[0m         \u001b[38;5;124m\"\u001b[39m\u001b[38;5;124m file name or contents, please provide a\u001b[39m\u001b[38;5;124m\"\u001b[39m\n\u001b[1;32m    360\u001b[0m         \u001b[38;5;124m\"\u001b[39m\u001b[38;5;124m \u001b[39m\u001b[38;5;124m'\u001b[39m\u001b[38;5;124mformat\u001b[39m\u001b[38;5;124m'\u001b[39m\u001b[38;5;124m argument.\u001b[39m\u001b[38;5;130;01m\\n\u001b[39;00m\u001b[38;5;124m\"\u001b[39m\n\u001b[1;32m    361\u001b[0m         \u001b[38;5;124mf\u001b[39m\u001b[38;5;124m\"\u001b[39m\u001b[38;5;124mThe available formats are:\u001b[39m\u001b[38;5;130;01m\\n\u001b[39;00m\u001b[38;5;132;01m{\u001b[39;00mformat_table_str\u001b[38;5;132;01m}\u001b[39;00m\u001b[38;5;124m\"\u001b[39m\n\u001b[1;32m    362\u001b[0m     )\n\u001b[1;32m    363\u001b[0m \u001b[38;5;28;01melif\u001b[39;00m \u001b[38;5;28mlen\u001b[39m(valid_formats) \u001b[38;5;241m>\u001b[39m \u001b[38;5;241m1\u001b[39m:\n",
      "\u001b[0;31mIORegistryError\u001b[0m: Format could not be identified based on the file name or contents, please provide a 'format' argument.\nThe available formats are:\n      Format      Read Write Auto-identify\n----------------- ---- ----- -------------\n      6dFGS-split  Yes    No           Yes\n    6dFGS-tabular  Yes    No           Yes\n    APOGEE apStar  Yes    No           Yes\n   APOGEE apVisit  Yes    No           Yes\nAPOGEE aspcapStar  Yes    No           Yes\n            ASCII  Yes    No           Yes\n             ECSV  Yes    No           Yes\n          HST/COS  Yes    No           Yes\n         HST/STIS  Yes    No           Yes\n             IPAC  Yes    No           Yes\n         JWST c1d  Yes    No           Yes\n         JWST s2d  Yes    No           Yes\n         JWST s3d  Yes    No           Yes\n         JWST x1d  Yes    No           Yes\n      MUSCLES SED  Yes    No           Yes\n       MaNGA cube  Yes    No           Yes\n        MaNGA rss  Yes    No           Yes\n     SDSS spPlate  Yes    No           Yes\n SDSS-I/II spSpec  Yes    No           Yes\n SDSS-III/IV spec  Yes    No           Yes\n    SDSS-V apStar  Yes    No           Yes\n   SDSS-V apVisit  Yes    No           Yes\n       SDSS-V mwm  Yes    No           Yes\n      SDSS-V spec  Yes    No           Yes\n       Spex Prism  Yes    No           Yes\n Subaru-pfsObject  Yes    No           Yes\n             iraf  Yes    No           Yes\n     tabular-fits  Yes   Yes           Yes\n       wcs1d-fits  Yes   Yes           Yes\n  wcs1d-multispec  Yes    No           Yes",
      "\nDuring handling of the above exception, another exception occurred:\n",
      "\u001b[0;31mAstroDBError\u001b[0m                              Traceback (most recent call last)",
      "Cell \u001b[0;32mIn[16], line 1\u001b[0m\n\u001b[0;32m----> 1\u001b[0m \u001b[43mcheck_spectrum_plottable\u001b[49m\u001b[43m(\u001b[49m\u001b[38;5;124;43m'\u001b[39;49m\u001b[38;5;124;43m/Users/arothermich/Desktop/Research/Projects/CoMover_paper/ManuscriptSubmission/Spectra/Secondary/AUS_0230+2405_tc.fits\u001b[39;49m\u001b[38;5;124;43m'\u001b[39;49m\u001b[43m)\u001b[49m\n",
      "File \u001b[0;32m~/Code/anaconda3/envs/simple-db/lib/python3.13/site-packages/astrodb_utils/spectra.py:146\u001b[0m, in \u001b[0;36mcheck_spectrum_plottable\u001b[0;34m(spectrum_path, raise_error, show_plot)\u001b[0m\n\u001b[1;32m    144\u001b[0m     class_check \u001b[38;5;241m=\u001b[39m \u001b[38;5;28;01mTrue\u001b[39;00m\n\u001b[1;32m    145\u001b[0m \u001b[38;5;28;01melse\u001b[39;00m:\n\u001b[0;32m--> 146\u001b[0m     class_check \u001b[38;5;241m=\u001b[39m \u001b[43mcheck_spectrum_class\u001b[49m\u001b[43m(\u001b[49m\u001b[43mspectrum_path\u001b[49m\u001b[43m,\u001b[49m\u001b[43m \u001b[49m\u001b[43mraise_error\u001b[49m\u001b[38;5;241;43m=\u001b[39;49m\u001b[43mraise_error\u001b[49m\u001b[43m)\u001b[49m\n\u001b[1;32m    147\u001b[0m     \u001b[38;5;28;01mif\u001b[39;00m \u001b[38;5;129;01mnot\u001b[39;00m class_check:\n\u001b[1;32m    148\u001b[0m         \u001b[38;5;28;01mreturn\u001b[39;00m \u001b[38;5;28;01mFalse\u001b[39;00m\n",
      "File \u001b[0;32m~/Code/anaconda3/envs/simple-db/lib/python3.13/site-packages/astrodb_utils/spectra.py:36\u001b[0m, in \u001b[0;36mcheck_spectrum_class\u001b[0;34m(spectrum, raise_error)\u001b[0m\n\u001b[1;32m     34\u001b[0m \u001b[38;5;28;01mif\u001b[39;00m raise_error:\n\u001b[1;32m     35\u001b[0m     logger\u001b[38;5;241m.\u001b[39merror(msg)\n\u001b[0;32m---> 36\u001b[0m     \u001b[38;5;28;01mraise\u001b[39;00m AstroDBError(msg)\n\u001b[1;32m     37\u001b[0m \u001b[38;5;28;01melse\u001b[39;00m:\n\u001b[1;32m     38\u001b[0m     logger\u001b[38;5;241m.\u001b[39mwarning(msg)\n",
      "\u001b[0;31mAstroDBError\u001b[0m: Unable to load file as Spectrum1D object:/Users/arothermich/Desktop/Research/Projects/CoMover_paper/ManuscriptSubmission/Spectra/Secondary/AUS_0230+2405_tc.fits"
     ]
    }
   ],
   "source": [
    "check_spectrum_plottable('/Users/arothermich/Desktop/Research/Projects/CoMover_paper/ManuscriptSubmission/Spectra/Secondary/AUS_0230+2405_tc.fits')"
   ]
  },
  {
   "cell_type": "code",
   "execution_count": 5,
   "id": "2c2c7001-937b-454f-9ae1-c7ca54597851",
   "metadata": {},
   "outputs": [],
   "source": [
    "from astropy import units as u"
   ]
  },
  {
   "cell_type": "code",
   "execution_count": 14,
   "id": "34856f91-1c81-42a6-a202-bc1eb4451e64",
   "metadata": {},
   "outputs": [],
   "source": [
    "test = u.Unit('erg s-1 cm-2 AA-1')"
   ]
  },
  {
   "cell_type": "code",
   "execution_count": 15,
   "id": "e49d5aa2-d485-4a3b-a706-bdc995b5b4d5",
   "metadata": {},
   "outputs": [
    {
     "data": {
      "text/plain": [
       "1.0"
      ]
     },
     "execution_count": 15,
     "metadata": {},
     "output_type": "execute_result"
    }
   ],
   "source": [
    "test.to(u.erg / u.s / u.cm**2 / u.AA)"
   ]
  },
  {
   "cell_type": "code",
   "execution_count": null,
   "id": "9966c330-47ea-4ac6-bf2c-56b543706471",
   "metadata": {},
   "outputs": [],
   "source": []
  }
 ],
 "metadata": {
  "kernelspec": {
   "display_name": "Python 3 (ipykernel)",
   "language": "python",
   "name": "python3"
  },
  "language_info": {
   "codemirror_mode": {
    "name": "ipython",
    "version": 3
   },
   "file_extension": ".py",
   "mimetype": "text/x-python",
   "name": "python",
   "nbconvert_exporter": "python",
   "pygments_lexer": "ipython3",
   "version": "3.9.19"
  }
 },
 "nbformat": 4,
 "nbformat_minor": 5
}
