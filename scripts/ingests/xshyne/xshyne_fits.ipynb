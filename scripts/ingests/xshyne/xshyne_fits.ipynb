{
 "cells": [
  {
   "cell_type": "code",
   "execution_count": 31,
   "id": "278be87f-9d7a-4b7e-b8c0-a184bcf0e3b7",
   "metadata": {},
   "outputs": [],
   "source": [
    "import numpy as np\n",
    "import sys\n",
    "from astropy.io import ascii\n",
    "\n",
    "import astropy.units as u\n",
    "from astropy.nddata import StdDevUncertainty\n",
    "\n",
    "sys.path.append('..')\n",
    "from astrodb_utils.fits import add_missing_keywords, add_observation_date, add_wavelength_keywords, check_header\n",
    "\n",
    "from astropy.io.fits import getheader\n",
    "from specutils import Spectrum\n",
    "from astrodb_utils.spectra import check_spectrum_plottable"
   ]
  },
  {
   "cell_type": "code",
   "execution_count": 33,
   "id": "4c6ad9d8-5494-4bf2-9aff-55e610401213",
   "metadata": {},
   "outputs": [],
   "source": [
    "from specutils import Spectrum\n",
    "from specutils.manipulation import snr_threshold\n",
    "import matplotlib.pyplot as plt\n",
    "\n",
    "from astropy.time import Time"
   ]
  },
  {
   "cell_type": "code",
   "execution_count": 145,
   "id": "20fe3d2d-1501-47df-9879-ba853667e493",
   "metadata": {},
   "outputs": [],
   "source": [
    "fits_created = 0"
   ]
  },
  {
   "cell_type": "code",
   "execution_count": 37,
   "id": "3d5b02b5-49e0-4220-aab4-b8e574466398",
   "metadata": {},
   "outputs": [],
   "source": [
    "link = './xshyne_data.csv'\n",
    "xshyne_table = ascii.read(\n",
    "    link,\n",
    "    format=\"csv\",\n",
    "    data_start=1,\n",
    "    header_start=0,\n",
    "    guess=False,\n",
    "    fast_reader=False, \n",
    "    delimiter=\",\",\n",
    ")"
   ]
  },
  {
   "cell_type": "code",
   "execution_count": 97,
   "id": "c7c8b0d7-2e03-4eeb-8dc0-bedded18182a",
   "metadata": {},
   "outputs": [],
   "source": [
    "def load_file(source):\n",
    "    path = f'./xshyne_npz/{source}.npz'\n",
    "    file_open = np.load(path)\n",
    "    \n",
    "    wave = file_open['wl']\n",
    "    flux = file_open['flx']\n",
    "    err = file_open['err']\n",
    "\n",
    "    return wave, flux, err\n"
   ]
  },
  {
   "cell_type": "code",
   "execution_count": 113,
   "id": "466299fb-a6b1-4aac-8ae4-be08024423c7",
   "metadata": {},
   "outputs": [],
   "source": [
    "def add_wavelength():#wavelength from XSHYNE data is in micrometers...\n",
    "    #convert to Angstrom: 1 micron = 10000 AA\n",
    "    wave_min = np.round(wave.min() * 10000,2)\n",
    "    wave_max = np.round(wave.max() * 10000,2)\n",
    "    wavelength = np.arange(wave_min, wave_max)*u.AA\n",
    "    add_wavelength_keywords(header, wavelength)\n",
    "\n",
    "    header.set('SPECBAND', 'em.IR.J, em.IR.H, em.IR.K, em.opt.R, em.opt.I')\n",
    "    header  #  Notice the new keywords and values added to the header"
   ]
  },
  {
   "cell_type": "code",
   "execution_count": 109,
   "id": "95d4b75d-fbeb-40cc-9238-70ccbfd19a3b",
   "metadata": {},
   "outputs": [],
   "source": [
    "def add_TMID(start_date, end_date):\n",
    "    start = Time(start_date, format = \"iso\")\n",
    "    end = Time(end_date, format = \"iso\")\n",
    "\n",
    "    result = (start.mjd + end.mjd)/2\n",
    "    print(f\"TMID mjd:{result}\")\n",
    "    header.set('TMID', result)"
   ]
  },
  {
   "cell_type": "code",
   "execution_count": 57,
   "id": "38975865-2bc0-433c-b64b-9e29b3dd673e",
   "metadata": {},
   "outputs": [],
   "source": [
    "def add_keywords(\n",
    "    source:str = None,\n",
    "    ra:float = None,\n",
    "    dec:float = None,\n",
    "    instrum:str = \"VLT/X-Shooter\",\n",
    "    tele:str = \"ESO VLT\",\n",
    "    observ:str = \"La Silla Paranal\",\n",
    "    vOPub:str = \"SIMPLE-Archive\",\n",
    "    vORef:str = \"https://www.aanda.org/articles/aa/full_html/2023/02/aa44494-22/aa44494-22.html\",\n",
    "    title:str = \"X-SHYNE: X-shooter spectra of young exoplanet analogs\",\n",
    "    author:str = \"Petrus et al.\",\n",
    "    contrib1:str = \"Leslie Han\",\n",
    "    tmid:str = None,\n",
    "    telapse:str = None,\n",
    "    aperture:str = None\n",
    "):\n",
    "    header.set('OBJECT', source)\n",
    "    header.set('RA_TARG', ra)\n",
    "    header.set('DEC_TARG', dec)\n",
    "    header.set('INSTRUME', instrum)\n",
    "    header.set('TELESCOP', tele)\n",
    "    header.set('OBSERVAT', observ)\n",
    "    header.set('VOPUB', vOPub)\n",
    "    header.set('VOREF', vORef)\n",
    "    header.set('TITLE', title)\n",
    "    header.set('AUTHOR', author)\n",
    "    header.set('CONTRIB1', contrib1)\n",
    "    header.set('TMID', tmid)\n",
    "    header.set('TELAPSE', telapse)\n",
    "    header.set('APERTURE', aperture)"
   ]
  },
  {
   "cell_type": "code",
   "execution_count": 59,
   "id": "81306d60-e08c-4f80-9d9d-fc281493f458",
   "metadata": {},
   "outputs": [],
   "source": [
    "def create_fits_file(wave, flux, err, header, source):\n",
    "    # Create the Spectrum object\n",
    "    converted_spectrum = Spectrum(\n",
    "        spectral_axis=wave * u.um,\n",
    "        flux=flux * u.Jy,\n",
    "        uncertainty=StdDevUncertainty(err * u.Jy)\n",
    "    )\n",
    "    converted_spectrum.meta[\"header\"] = header\n",
    "    \n",
    "    # Write the Spectrum object to a FITS file\n",
    "    converted_spectrum.write(f'{source}_Petr25.fits', format=\"tabular-fits\")\n",
    "    \n",
    "    # Check that the spectrum is readable and plottable\n",
    "    # If you have matplotlib installed, use show_plot = True to display the spectrum\n",
    "    check_spectrum_plottable(f'{source}_Petr25.fits', show_plot=True, format = \"tabular-fits\")"
   ]
  },
  {
   "cell_type": "code",
   "execution_count": 157,
   "id": "54149f48-8429-4803-b400-a1609285c128",
   "metadata": {},
   "outputs": [],
   "source": [
    "def mask_plots(wave, flux):\n",
    "    #figure out how to mask the plot..."
   ]
  },
  {
   "cell_type": "code",
   "execution_count": 159,
   "id": "71459834-1119-4b90-be7b-3c2f335316ca",
   "metadata": {},
   "outputs": [
    {
     "name": "stdout",
     "output_type": "stream",
     "text": [
      "COPY AND PASTE THE FOLLOWING COMMANDS INTO YOUR SCRIPT \n",
      "Replace <value> with the appropriate value for your dataset \n",
      "If you're not sure of the correct value, use None \n",
      "If you started with a header object not called `header`, \n",
      "replace 'header' with the name of your header object \n",
      "Use the `astrodb_utils.fits.add_wavelength_keywords` function \n",
      "to add the SPEC_VAL, SPEC_BW, TDMID1, TDMAX1, and SPECBAND keywords \n",
      "\n",
      "header.set('OBJECT', \"<value>\")\n",
      "header.set('RA_TARG', \"<value>\")\n",
      "header.set('DEC_TARG', \"<value>\")\n",
      "header.set('INSTRUME', \"<value>\")\n",
      "header.set('TELESCOP', \"<value>\")\n",
      "header.set('OBSERVAT', \"<value>\")\n",
      "header.set('VOCLASS', \"<value>\")\n",
      "header.set('VOPUB', \"<value>\")\n",
      "header.set('VOREF', \"<value>\")\n",
      "header.set('TITLE', \"<value>\")\n",
      "header.set('AUTHOR', \"<value>\")\n",
      "header.set('CONTRIB1', \"<value>\")\n",
      "header.set('DATE-OBS', \"<value>\")\n",
      "header.set('TMID', \"<value>\")\n",
      "header.set('TELAPSE', \"<value>\")\n",
      "header.set('SPEC_VAL', \"<value>\")\n",
      "header.set('SPEC_BW', \"<value>\")\n",
      "header.set('TDMIN1', \"<value>\")\n",
      "header.set('TDMAX1', \"<value>\")\n",
      "header.set('SPECBAND', \"<value>\")\n",
      "header.set('APERTURE', \"<value>\")\n",
      "[0.32020666 0.32022666 0.32024666 ... 2.47883158 2.47889158 2.47895158] [ 1.54114995e-16 -7.29413275e-18 -1.37147545e-16 ...  3.98602132e-16\n",
      "  3.70330106e-16  3.17580220e-16] [1.54544842e-16 1.49849200e-16 1.45222713e-16 ... 1.64159435e-16\n",
      " 1.39458857e-16 1.63543079e-16]\n",
      "TMID mjd:58336.5\n",
      "Date of observation: Jul 28, 2018\n",
      "DATE-OBS set to : 2018-07-28.\n",
      "The following keywords are not set in the header:\n",
      "TELAPSE : [s] Total elapsed time (s)\n",
      "APERTURE : [arcsec] slit width\n",
      "coordinates converted to sexagesimal: 00h30m30.12s -14d50m33.3996s\n",
      "DATE-OBS set to : 2018-07-28.\n",
      "Date of observation: Jul 28, 2018\n"
     ]
    },
    {
     "name": "stderr",
     "output_type": "stream",
     "text": [
      "WARNING: VerifyWarning: Card is too long, comment will be truncated. [astropy.io.fits.card]\n"
     ]
    },
    {
     "data": {
      "image/png": "[encoded data removed]",
      "text/plain": [
       "<Figure size 640x480 with 1 Axes>"
      ]
     },
     "metadata": {},
     "output_type": "display_data"
    },
    {
     "ename": "TypeError",
     "evalue": "masked_where() missing 1 required positional argument: 'a'",
     "output_type": "error",
     "traceback": [
      "\u001b[0;31m---------------------------------------------------------------------------\u001b[0m",
      "\u001b[0;31mTypeError\u001b[0m                                 Traceback (most recent call last)",
      "Cell \u001b[0;32mIn[159], line 34\u001b[0m\n\u001b[1;32m     31\u001b[0m create_fits_file(wave \u001b[38;5;241m=\u001b[39m wave, flux \u001b[38;5;241m=\u001b[39m flux, err \u001b[38;5;241m=\u001b[39m err, header \u001b[38;5;241m=\u001b[39m header, source \u001b[38;5;241m=\u001b[39m short_name)\n\u001b[1;32m     32\u001b[0m fits_created\u001b[38;5;241m+\u001b[39m\u001b[38;5;241m=\u001b[39m\u001b[38;5;241m1\u001b[39m\n\u001b[0;32m---> 34\u001b[0m mask_plots(wave,flux)\n",
      "Cell \u001b[0;32mIn[157], line 2\u001b[0m, in \u001b[0;36mmask_plots\u001b[0;34m(wave, flux)\u001b[0m\n\u001b[1;32m      1\u001b[0m \u001b[38;5;28;01mdef\u001b[39;00m \u001b[38;5;21mmask_plots\u001b[39m(wave, flux):\n\u001b[0;32m----> 2\u001b[0m     spectrum_masked \u001b[38;5;241m=\u001b[39m np\u001b[38;5;241m.\u001b[39mma\u001b[38;5;241m.\u001b[39mmasked_where(wave\u001b[38;5;241m<\u001b[39m\u001b[38;5;241m0.6\u001b[39m)\n\u001b[1;32m      3\u001b[0m     plt\u001b[38;5;241m.\u001b[39mfigure(figsize\u001b[38;5;241m=\u001b[39m(\u001b[38;5;241m10\u001b[39m, \u001b[38;5;241m6\u001b[39m))\n\u001b[1;32m      4\u001b[0m     plt\u001b[38;5;241m.\u001b[39mplot(spectrum_masked, flux)\n",
      "\u001b[0;31mTypeError\u001b[0m: masked_where() missing 1 required positional argument: 'a'"
     ]
    }
   ],
   "source": [
    "for row in xshyne_table:\n",
    "    #create new header\n",
    "    header = add_missing_keywords()\n",
    "\n",
    "    source = row['Source']\n",
    "    short_name = row['Short Name']\n",
    "    date = row['Date']\n",
    "    ra = row['Ra']\n",
    "    dec = row['Dec']\n",
    "    start_date = row['Start Date']\n",
    "    end_date = row['End Date']\n",
    "    \n",
    "    #read the file\n",
    "    load = load_file(short_name)\n",
    "    wave = load[0]\n",
    "    flux = load[1]\n",
    "    err = load[2]\n",
    "    print(wave, flux, err)\n",
    "\n",
    "    add_wavelength()\n",
    "    add_TMID(start_date, end_date)\n",
    "    add_observation_date(header, date)\n",
    "\n",
    "    add_keywords(source = source, ra = ra, dec = dec, observ = date)\n",
    "\n",
    "    if short_name == '2MASS0030': \n",
    "        check_header(header=header, ignore_simbad = True)\n",
    "    else:\n",
    "        check_header(header)\n",
    "\n",
    "    create_fits_file(wave = wave, flux = flux, err = err, header = header, source = short_name)\n",
    "    fits_created+=1\n",
    "\n",
    "    mask_plots(wave=wave,flux=flux)"
   ]
  },
  {
   "cell_type": "code",
   "execution_count": 117,
   "id": "9fba303a-a0d0-45ed-9f71-60d021ef458f",
   "metadata": {
    "scrolled": true
   },
   "outputs": [
    {
     "name": "stdout",
     "output_type": "stream",
     "text": [
      "Fits file created: 43\n"
     ]
    }
   ],
   "source": [
    "print(f\"Fits file created: {fits_created}\")"
   ]
  },
  {
   "cell_type": "code",
   "execution_count": null,
   "id": "4264d6b3-dac4-4bd9-8788-5f612be7903b",
   "metadata": {},
   "outputs": [],
   "source": []
  }
 ],
 "metadata": {
  "kernelspec": {
   "display_name": "Python [conda env:base] *",
   "language": "python",
   "name": "conda-base-py"
  },
  "language_info": {
   "codemirror_mode": {
    "name": "ipython",
    "version": 3
   },
   "file_extension": ".py",
   "mimetype": "text/x-python",
   "name": "python",
   "nbconvert_exporter": "python",
   "pygments_lexer": "ipython3",
   "version": "3.12.7"
  }
 },
 "nbformat": 4,
 "nbformat_minor": 5
}
