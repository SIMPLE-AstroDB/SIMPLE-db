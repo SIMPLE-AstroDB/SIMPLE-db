{
 "cells": [
  {
   "cell_type": "code",
   "execution_count": 1,
   "metadata": {},
   "outputs": [],
   "source": [
    "#Finding all the missing sources to future ingestion\n",
    "import numpy as np\n",
    "import pandas as pd"
   ]
  },
  {
   "cell_type": "code",
   "execution_count": 4,
   "metadata": {},
   "outputs": [],
   "source": [
    "unavailable = pd.read_csv('unavailable_sources.csv')\n",
    "new_missing = pd.read_csv('missing_sources.txt')\n",
    "original = pd.read_csv('sanghi23/Ultracool_Fundamental_Properties_Table.csv')"
   ]
  },
  {
   "cell_type": "code",
   "execution_count": 12,
   "metadata": {},
   "outputs": [
    {
     "data": {
      "text/plain": [
       "0       PSO J000.2794+16.6237\n",
       "1       PSO J009.8334+58.5781\n",
       "2       PSO J069.4987+19.6346\n",
       "3       PSO J080.3940+23.0999\n",
       "4     2MASS J05445741+3705039\n",
       "5       PSO J139.5493+39.0380\n",
       "6       PSO J154.9622+04.8279\n",
       "7       PSO J162.0614+13.9756\n",
       "8       PSO J210.6211-26.9300\n",
       "9       PSO J260.1789+15.3091\n",
       "10      PSO J271.8353+46.9326\n",
       "11      PSO J277.3873+26.0116\n",
       "12      PSO J299.5032+55.0722\n",
       "13      PSO J323.4300-07.5353\n",
       "14      PSO J345.2949+07.7665\n",
       "15      PSO J348.5125+69.6598\n",
       "16      PSO J002.0878+52.0687\n",
       "17      PSO J009.8334+58.5781\n",
       "18      PSO J013.7740+38.2804\n",
       "19     SIMP J01205253+1518277\n",
       "20      PSO J028.0715-15.5717\n",
       "21      PSO J032.2211+67.4179\n",
       "22      PSO J033.2936+20.4493\n",
       "23      PSO J037.4616+17.2761\n",
       "24      PSO J042.8405+35.3726\n",
       "25             YU-29133_55877\n",
       "26      PSO J063.1519-02.8904\n",
       "27      PSO J069.4987+19.6346\n",
       "28      PSO J075.4182-17.8327\n",
       "29      PSO J080.3940+23.0999\n",
       "30    2MASS J05445741+3705039\n",
       "31      PSO J098.2822-23.2845\n",
       "32      PSO J138.1887-06.9862\n",
       "33      PSO J139.5493+39.0380\n",
       "34      PSO J153.7969-11.3631\n",
       "35      PSO J154.9622+04.8279\n",
       "36      PSO J162.0614+13.9756\n",
       "37      PSO J178.1434-23.8603\n",
       "38      PSO J179.2489+41.5121\n",
       "39      PSO J210.6211-26.9300\n",
       "40      PSO J216.4707-06.2849\n",
       "41      PSO J227.1576-07.9608\n",
       "42      PSO J235.3149+61.5071\n",
       "43      PSO J255.0913+10.3263\n",
       "44      PSO J260.1789+15.3091\n",
       "45      PSO J271.8353+46.9326\n",
       "46      PSO J277.3873+26.0116\n",
       "47      PSO J279.6187+11.6036\n",
       "48      PSO J281.4296+04.2296\n",
       "49      PSO J299.5032+55.0722\n",
       "50      PSO J307.7981-06.6854\n",
       "51      PSO J313.1067+32.9117\n",
       "52             YU2-644_102045\n",
       "53      PSO J319.7576-13.0982\n",
       "54      PSO J323.4300-07.5353\n",
       "55      PSO J345.2949+07.7665\n",
       "56      PSO J348.5125+69.6598\n",
       "57      PSO J349.3359+32.0532\n",
       "dtype: object"
      ]
     },
     "execution_count": 12,
     "metadata": {},
     "output_type": "execute_result"
    }
   ],
   "source": [
    "missing = pd.concat([unavailable[\"name\"], new_missing[\"PSO J000.2794+16.6237\"]])  \n",
    "missing.reset_index(drop=True, inplace=True)\n",
    "missing = missing.drop(missing.index[43])\n",
    "missing.reset_index(drop=True, inplace=True)\n",
    "missing"
   ]
  },
  {
   "cell_type": "code",
   "execution_count": 18,
   "metadata": {},
   "outputs": [],
   "source": [
    "# Find common sources in original dataframe\n",
    "missing_sources = original[original['name'].isin(missing)]\n",
    "missing_sources\n",
    "columns = ['name', 'name_simbadable', 'ref_discovery', 'ra_j2000_formula', 'dec_j2000_formula']\n",
    "\n",
    "# # Select the specified columns from the common sources\n",
    "selected = missing_sources[columns]\n",
    "selected = selected.reset_index(drop=True)\n",
    "selected.to_csv('missing_sources.csv', index=False)\n"
   ]
  },
  {
   "cell_type": "code",
   "execution_count": null,
   "metadata": {},
   "outputs": [],
   "source": []
  }
 ],
 "metadata": {
  "kernelspec": {
   "display_name": "workspace",
   "language": "python",
   "name": "python3"
  },
  "language_info": {
   "codemirror_mode": {
    "name": "ipython",
    "version": 3
   },
   "file_extension": ".py",
   "mimetype": "text/x-python",
   "name": "python",
   "nbconvert_exporter": "python",
   "pygments_lexer": "ipython3",
   "version": "3.12.2"
  }
 },
 "nbformat": 4,
 "nbformat_minor": 2
}
