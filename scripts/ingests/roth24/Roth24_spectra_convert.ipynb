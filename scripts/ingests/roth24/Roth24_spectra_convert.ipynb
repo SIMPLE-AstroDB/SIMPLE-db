{
 "cells": [
  {
   "cell_type": "code",
   "execution_count": 1,
   "id": "2fb9db50-2350-4885-8e8e-d02c436fc7c3",
   "metadata": {},
   "outputs": [],
   "source": [
    "from astropy.io import fits\n",
    "from astropy.table import Table\n",
    "import astropy.units as u\n",
    "from astropy.io.fits import getheader\n",
    "\n",
    "import sys\n",
    "import numpy as np\n",
    "\n",
    "from specutils import Spectrum1D\n",
    "from astrodb_utils.spectra import check_spectrum_plottable\n",
    "from astrodb_utils.fits import add_missing_keywords, add_observation_date, add_wavelength_keywords, check_header"
   ]
  },
  {
   "cell_type": "code",
   "execution_count": 89,
   "id": "7336a161-df36-412c-a2d2-fd0db5e0e873",
   "metadata": {},
   "outputs": [
    {
     "name": "stderr",
     "output_type": "stream",
     "text": [
      "WARNING: The following header keyword is invalid or follows an unrecognized non-standard convention:\n",
      " ############################## Xspextool History ############################## [astropy.io.fits.card]\n",
      "WARNING: The following header keyword is invalid or follows an unrecognized non-standard convention:\n",
      " ############################## Xcombspec History ############################## [astropy.io.fits.card]\n",
      "WARNING: The following header keyword is invalid or follows an unrecognized non-standard convention:\n",
      " ############################### Xtellcor History ############################## [astropy.io.fits.card]\n",
      "WARNING: The following header keyword is invalid or follows an unrecognized non-standard convention:\n",
      " ############################# Xmergeorders History ############################ [astropy.io.fits.card]\n"
     ]
    }
   ],
   "source": [
    "#Read in the wavelength, flux, and error from the file\n",
    "\n",
    "irtf_filename = '/Users/arothermich/Desktop/Research/Projects/Roth24/ManuscriptSubmission/Spectra/Secondary/tspec4-merged_J2029-7910B_20211023.fits'\n",
    "hdul = fits.getdata(irtf_filename, ignore_missing_simple=True)\n",
    "wave=hdul[0]  * u.micron\n",
    "flux=hdul[1 ]* u.Unit('erg / (cm2 s angstrom)')\n",
    "err=hdul[2] * u.Unit('erg / (cm2 s angstrom)')\n",
    "\n",
    "###############################################\n",
    "#If Kast Spectrum:\n",
    "# hdul = fits.open('/Users/arothermich/Desktop/Research/Projects/Roth24/ManuscriptSubmission/Spectra/Secondary/kastRED_J1744+2304B_20210517.fits',ignore_missing_simple=True,do_not_scale_image_data=True)\n",
    "# wave, flux, err = hdul[0].data\n",
    "# wave=wave  * u.micron\n",
    "# flux=flux* u.Unit('erg / (cm2 s angstrom)')\n",
    "# err=err * u.Unit('erg / (cm2 s angstrom)')\n",
    "###############################################\n",
    "\n",
    "#Set-up a table with the spectra values\n",
    "table = Table([wave.value, flux.value, err.value],\n",
    "              names=('wavelength', 'flux', 'flux_error'))\n",
    "primary_hdu = fits.PrimaryHDU() \n",
    "hdu = fits.BinTableHDU(table)  #turn our table into a binary fits format\n",
    "\n",
    "# Add the header info for our units\n",
    "hdu.header['TUNIT1'] = 'um'                   \n",
    "hdu.header['TUNIT2'] = 'erg / (cm2 s angstrom)'    \n",
    "hdu.header['TUNIT3'] = 'erg / (cm2 s angstrom)'     \n",
    "\n",
    "#Write the file into a fits file. \n",
    "hdul = fits.HDUList([primary_hdu, hdu])\n",
    "hdul.writeto('/Users/arothermich/Desktop/Research/Projects/SIMPLE/Converted_Spectra/AUS-2029-7910.fits', overwrite=True)"
   ]
  },
  {
   "cell_type": "code",
   "execution_count": 90,
   "id": "5d513dbd-ba41-4cf3-94be-8b12af857957",
   "metadata": {},
   "outputs": [],
   "source": [
    "# Now we are going  to update all of the header information\n",
    "hdul = fits.open('/Users/arothermich/Desktop/Research/Projects/SIMPLE/Converted_Spectra/AUS-2029-7910.fits',  mode='update')\n",
    "header = hdul[0].header\n",
    "\n",
    "#Setting Header Values\n",
    "header.set('OBJECT', \"CWISE J202934.80-791013.1\")\n",
    "header.set('DATE-OBS', \"2021-10-23\")\n",
    "header.set('INSTRUME', \"TS4\")\n",
    "header.set('TELESCOP', \"SOAR\")\n",
    "# header.set('RA_TARG', \"17:44:26.81\")\n",
    "# header.set('DEC_TARG', \"23:03:54.9\")\n",
    "header.set('OBSERVER', 'Burgasser')\n",
    "# header.set('SLIT', '0.8x15')\n",
    "# header.set('GRAT', 'PRISM')\n",
    "header.set('AIRMASS', '1.56')\n",
    "header.set('ITOT', '1200')\n",
    "header.set('AUTHOR', \"Rothermich et al 2024\")\n",
    "header.set('TITLE', \"89 New Ultracool Dwarf Co-Moving Companions Identified With The Backyard Worlds: Planet 9 Citizen Science Project\")\n",
    "header.set('VOREF', \"10.3847/1538-3881/ad324e\")\n",
    "header.set('VOPUB', \"SIMPLE Archive\")\n",
    "header.set('CONTRIB1', \"Austin Rothermich\")\n",
    "\n",
    "# Save changes to the file in-place\n",
    "hdul.flush()\n",
    "\n",
    "# Close the FITS file\n",
    "hdul.close()\n",
    "# check_header(header)\n",
    "# add_missing_keywords(header=header)"
   ]
  },
  {
   "cell_type": "code",
   "execution_count": 91,
   "id": "aa46402e-62ec-42ba-9eb0-b2e1fea758d3",
   "metadata": {},
   "outputs": [
    {
     "data": {
      "image/png": "[encoded data removed]",
      "text/plain": [
       "<Figure size 640x480 with 1 Axes>"
      ]
     },
     "metadata": {},
     "output_type": "display_data"
    },
    {
     "data": {
      "text/plain": [
       "True"
      ]
     },
     "execution_count": 91,
     "metadata": {},
     "output_type": "execute_result"
    }
   ],
   "source": [
    "#Now we will check to make sure the new file can be read into simple! \n",
    "spec1d = Spectrum1D.read('/Users/arothermich/Desktop/Research/Projects/SIMPLE/Converted_Spectra/AUS-2029-7910.fits')\n",
    "# spec1d = Spectrum1D.read('/Users/arothermich/Desktop/Research/Projects/Roth24/ManuscriptSubmission/Spectra/Secondary/J0657+1633.fits')\n",
    "check_spectrum_plottable(spec1d, show_plot=True)"
   ]
  },
  {
   "cell_type": "code",
   "execution_count": null,
   "id": "418fc897-5d60-4837-b22e-a4661b776fe6",
   "metadata": {},
   "outputs": [],
   "source": []
  }
 ],
 "metadata": {
  "kernelspec": {
   "display_name": "Python 3 (ipykernel)",
   "language": "python",
   "name": "python3"
  },
  "language_info": {
   "codemirror_mode": {
    "name": "ipython",
    "version": 3
   },
   "file_extension": ".py",
   "mimetype": "text/x-python",
   "name": "python",
   "nbconvert_exporter": "python",
   "pygments_lexer": "ipython3",
   "version": "3.13.1"
  }
 },
 "nbformat": 4,
 "nbformat_minor": 5
}
