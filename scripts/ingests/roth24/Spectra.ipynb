{
 "cells": [
  {
   "cell_type": "code",
   "execution_count": 1,
   "id": "f9c11eca-978f-4cf9-8465-9fd12b11f7c5",
   "metadata": {},
   "outputs": [],
   "source": [
    "import numpy\n",
    "import pylab\n",
    "import scipy\n",
    "import matplotlib.pyplot as plt\n",
    "import pandas as pd\n",
    "from astropy.io import fits\n"
   ]
  },
  {
   "cell_type": "code",
   "execution_count": 3,
   "id": "010c035b-9f28-483f-8a2e-9c8a79ac1bfe",
   "metadata": {},
   "outputs": [
    {
     "ename": "ModuleNotFoundError",
     "evalue": "No module named 'simple'",
     "output_type": "error",
     "traceback": [
      "\u001b[0;31m---------------------------------------------------------------------------\u001b[0m",
      "\u001b[0;31mModuleNotFoundError\u001b[0m                       Traceback (most recent call last)",
      "Cell \u001b[0;32mIn[3], line 1\u001b[0m\n\u001b[0;32m----> 1\u001b[0m \u001b[38;5;28;01mfrom\u001b[39;00m \u001b[38;5;21;01msimple\u001b[39;00m\u001b[38;5;21;01m.\u001b[39;00m\u001b[38;5;21;01mutils\u001b[39;00m\u001b[38;5;21;01m.\u001b[39;00m\u001b[38;5;21;01mspectra\u001b[39;00m \u001b[38;5;28;01mimport\u001b[39;00m spectrum_plottable\n",
      "\u001b[0;31mModuleNotFoundError\u001b[0m: No module named 'simple'"
     ]
    }
   ],
   "source": [
    "from simple.utils.spectra import spectrum_plottable\n"
   ]
  },
  {
   "cell_type": "code",
   "execution_count": 2,
   "id": "4489a9ec-5976-4eec-aadd-de4b42f414fb",
   "metadata": {},
   "outputs": [
    {
     "name": "stderr",
     "output_type": "stream",
     "text": [
      "WARNING: The following header keyword is invalid or follows an unrecognized non-standard convention:\n",
      " ############################## Xspextool History #############################  [astropy.io.fits.card]\n",
      "WARNING: The following header keyword is invalid or follows an unrecognized non-standard convention:\n",
      " ############################## Xcombspec History #############################  [astropy.io.fits.card]\n",
      "WARNING: The following header keyword is invalid or follows an unrecognized non-standard convention:\n",
      " ############################### Xtellcor History ############################## [astropy.io.fits.card]\n"
     ]
    }
   ],
   "source": [
    "data1=fits.getdata('/Users/arothermich/Desktop/Research/Projects/CoMover_paper/ManuscriptSubmission/Spectra/Secondary/BYW1037-0507_Done.fits')"
   ]
  },
  {
   "cell_type": "code",
   "execution_count": null,
   "id": "dc6d2cf3-d7e8-4cf7-96d1-7964708c06d2",
   "metadata": {},
   "outputs": [],
   "source": []
  }
 ],
 "metadata": {
  "kernelspec": {
   "display_name": "Python 3 (ipykernel)",
   "language": "python",
   "name": "python3"
  },
  "language_info": {
   "codemirror_mode": {
    "name": "ipython",
    "version": 3
   },
   "file_extension": ".py",
   "mimetype": "text/x-python",
   "name": "python",
   "nbconvert_exporter": "python",
   "pygments_lexer": "ipython3",
   "version": "3.10.14"
  }
 },
 "nbformat": 4,
 "nbformat_minor": 5
}
