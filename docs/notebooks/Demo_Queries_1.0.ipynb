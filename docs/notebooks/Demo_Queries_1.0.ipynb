{
 "cells": [
  {
   "cell_type": "markdown",
   "id": "1ffa299a",
   "metadata": {},
   "source": [
    "# Getting Started with Querying the Database Using Python"
   ]
  },
  {
   "cell_type": "markdown",
   "id": "4105070b",
   "metadata": {},
   "source": [
    "## Load in the Database"
   ]
  },
  {
   "cell_type": "code",
   "execution_count": null,
   "id": "f244041f",
   "metadata": {},
   "outputs": [],
   "source": [
    "from astrodb_utils import load_astrodb\n",
    "from simple import REFERENCE_TABLES\n",
    "\n",
    "SCHEMA_PATH = \"../../simple/schema.yaml\" \n",
    "recreatedb = False #Set to True or False\n",
    "db = load_astrodb(\n",
    "     \"../../SIMPLE.sqlite\", \n",
    "     recreatedb=recreatedb,  \n",
    "     reference_tables=REFERENCE_TABLES, \n",
    "     felis_schema=SCHEMA_PATH\n",
    "     )"
   ]
  },
  {
   "cell_type": "markdown",
   "id": "7391b753",
   "metadata": {},
   "source": [
    "## Query the Database"
   ]
  },
  {
   "cell_type": "markdown",
   "id": "bc978748",
   "metadata": {},
   "source": [
    "### Using Astrodbkit Query Functions"
   ]
  },
  {
   "cell_type": "markdown",
   "id": "0ab71b4b",
   "metadata": {},
   "source": [
    "What is Astrodbkit? (Link: https://astrodbkit.readthedocs.io/en/latest/#exploring-the-schema)\n",
    "AstrodbKit is an astronomical database handler code built on top of SQLAlchemy. We can implement various functions from the python package to query the database in robust ways."
   ]
  },
  {
   "cell_type": "code",
   "execution_count": 2,
   "id": "73179c36",
   "metadata": {},
   "outputs": [],
   "source": [
    "from astropy.coordinates import SkyCoord  # High-level coordinates\n",
    "from astropy.coordinates import ICRS, Galactic, FK4, FK5  # Low-level frames\n",
    "from astropy.coordinates import Angle, Latitude, Longitude  # Angles\n",
    "import astropy.units as u"
   ]
  },
  {
   "cell_type": "markdown",
   "id": "15f7f93f",
   "metadata": {},
   "source": [
    "Lets check the tables in the database"
   ]
  },
  {
   "cell_type": "code",
   "execution_count": 3,
   "id": "b4fc7b20",
   "metadata": {},
   "outputs": [
    {
     "name": "stdout",
     "output_type": "stream",
     "text": [
      "CompanionList\n",
      "CompanionParameters\n",
      "Sources\n",
      "Publications\n",
      "CompanionRelationships\n",
      "Gravities\n",
      "Regimes\n",
      "Instruments\n",
      "Telescopes\n",
      "ModeledParameters\n",
      "Parameters\n",
      "Names\n",
      "Parallaxes\n",
      "Photometry\n",
      "PhotometryFilters\n",
      "ProperMotions\n",
      "RadialVelocities\n",
      "RotationalParameters\n",
      "Spectra\n",
      "SpectralTypes\n",
      "Versions\n"
     ]
    }
   ],
   "source": [
    "for table in db.metadata.tables:\n",
    "    print(table)"
   ]
  },
  {
   "cell_type": "markdown",
   "id": "22c1a568",
   "metadata": {},
   "source": [
    "Now that we know the tables,lets do a more detailed search into the tables and their content\n",
    "\n",
    "Lets look at the first 10 sources available within SIMPLE"
   ]
  },
  {
   "cell_type": "code",
   "execution_count": 4,
   "id": "0aaadc2c",
   "metadata": {},
   "outputs": [
    {
     "data": {
      "text/html": [
       "<div><i>Table length=10</i>\n",
       "<table id=\"table4394421568\" class=\"table-striped table-bordered table-condensed\">\n",
       "<thead><tr><th>source</th><th>ra</th><th>dec</th><th>epoch</th><th>equinox</th><th>shortname</th><th>reference</th><th>other_references</th><th>comments</th></tr></thead>\n",
       "<thead><tr><th>str24</th><th>float64</th><th>float64</th><th>object</th><th>object</th><th>object</th><th>str11</th><th>object</th><th>object</th></tr></thead>\n",
       "<tr><td>2MASS J03552014+1439297</td><td>58.83375</td><td>14.658056</td><td>None</td><td>None</td><td>None</td><td>Cruz07</td><td>None</td><td>None</td></tr>\n",
       "<tr><td>1RXS J115928.5-524717</td><td>179.864</td><td>-52.7886</td><td>None</td><td>2000</td><td>None</td><td>Hamb04.265</td><td>None</td><td>None</td></tr>\n",
       "<tr><td>ULAS J114925.58-014343.2</td><td>177.3569</td><td>-1.7287</td><td>None</td><td>2000</td><td>None</td><td>Burn10.1885</td><td>None</td><td>None</td></tr>\n",
       "<tr><td>DENIS-P J1756561-480509</td><td>269.2342</td><td>-48.086</td><td>None</td><td>2000</td><td>None</td><td>Phan08</td><td>None</td><td>None</td></tr>\n",
       "<tr><td>PSO J024.4369+09.1360</td><td>24.4372</td><td>9.1366</td><td>None</td><td>2000</td><td>None</td><td>Skrz16</td><td>None</td><td>Best20 lists discovery as Skrz16; Best20a</td></tr>\n",
       "<tr><td>SDSS J161420.50+004643.6</td><td>243.585</td><td>0.7785</td><td>None</td><td>2000</td><td>None</td><td>Hawl02</td><td>None</td><td>None</td></tr>\n",
       "<tr><td>SDSS J094903.15+264944.2</td><td>147.2633</td><td>26.8288</td><td>None</td><td>2000</td><td>None</td><td>Schm10.1808</td><td>None</td><td>None</td></tr>\n",
       "<tr><td>SDSS J083717.21-000018.0</td><td>129.3215835</td><td>-0.004972</td><td>None</td><td>None</td><td>0837-0000</td><td>Legg00</td><td>None</td><td>None</td></tr>\n",
       "<tr><td>2MASS J06080232-2944590</td><td>92.0097</td><td>-29.7497</td><td>None</td><td>2000</td><td>None</td><td>Cruz03</td><td>None</td><td>None</td></tr>\n",
       "<tr><td>2MASS J09373487+2931409</td><td>144.395292</td><td>29.528028</td><td>None</td><td>None</td><td>0937+2931</td><td>Burg02.421</td><td>None</td><td>None</td></tr>\n",
       "</table></div>"
      ],
      "text/plain": [
       "<Table length=10>\n",
       "         source          ...                  comments                \n",
       "         str24           ...                   object                 \n",
       "------------------------ ... -----------------------------------------\n",
       " 2MASS J03552014+1439297 ...                                      None\n",
       "   1RXS J115928.5-524717 ...                                      None\n",
       "ULAS J114925.58-014343.2 ...                                      None\n",
       " DENIS-P J1756561-480509 ...                                      None\n",
       "   PSO J024.4369+09.1360 ... Best20 lists discovery as Skrz16; Best20a\n",
       "SDSS J161420.50+004643.6 ...                                      None\n",
       "SDSS J094903.15+264944.2 ...                                      None\n",
       "SDSS J083717.21-000018.0 ...                                      None\n",
       " 2MASS J06080232-2944590 ...                                      None\n",
       " 2MASS J09373487+2931409 ...                                      None"
      ]
     },
     "execution_count": 4,
     "metadata": {},
     "output_type": "execute_result"
    }
   ],
   "source": [
    "db.query(db.Sources).limit(10).table()"
   ]
  },
  {
   "cell_type": "markdown",
   "id": "c95de403",
   "metadata": {},
   "source": [
    "Thats a lot of sources! Lets say you just want to find all sources that start with \"WISE\" \n",
    "We can use the search_object function for this\n",
    "Search_Object documentation: https://astrodbkit.readthedocs.io/en/latest/#identifier-name-search"
   ]
  },
  {
   "cell_type": "code",
   "execution_count": 5,
   "id": "fd90f00d",
   "metadata": {},
   "outputs": [
    {
     "name": "stdout",
     "output_type": "stream",
     "text": [
      "Using table 'Sources' with columns ['source'] for matching object names\n",
      "Using table 'Names' with columns ['other_name'] for matching object names\n"
     ]
    },
    {
     "data": {
      "text/html": [
       "<div><i>Table length=3145</i>\n",
       "<table id=\"table5436189072\" class=\"table-striped table-bordered table-condensed\">\n",
       "<thead><tr><th>source</th><th>ra</th><th>dec</th><th>epoch</th><th>equinox</th><th>shortname</th><th>reference</th><th>other_references</th><th>comments</th></tr></thead>\n",
       "<thead><tr><th>str32</th><th>float64</th><th>float64</th><th>object</th><th>object</th><th>object</th><th>str11</th><th>object</th><th>object</th></tr></thead>\n",
       "<tr><td>1RXS J115928.5-524717</td><td>179.864</td><td>-52.7886</td><td>None</td><td>2000</td><td>None</td><td>Hamb04.265</td><td>None</td><td>None</td></tr>\n",
       "<tr><td>2MASS J00011217+1535355</td><td>0.300708</td><td>15.593194</td><td>None</td><td>None</td><td>0001+1535</td><td>Knap04</td><td>None</td><td>None</td></tr>\n",
       "<tr><td>2MASS J00034227-2822410</td><td>0.926125</td><td>-28.378056</td><td>None</td><td>None</td><td>0003-2822</td><td>Cruz07</td><td>None</td><td>None</td></tr>\n",
       "<tr><td>2MASS J00040288-6410358</td><td>1.012</td><td>-64.176611</td><td>None</td><td>None</td><td>0004-6410</td><td>Kirk10</td><td>None</td><td>None</td></tr>\n",
       "<tr><td>2MASS J00043484-4044058</td><td>1.145166</td><td>-40.734944</td><td>None</td><td>None</td><td>0004-4044BC</td><td>Eros99</td><td>None</td><td>None</td></tr>\n",
       "<tr><td>2MASS J00044144-2058298</td><td>1.1728</td><td>-20.975</td><td>None</td><td>2000</td><td>None</td><td>Kend07</td><td>None</td><td>None</td></tr>\n",
       "<tr><td>2MASS J00045753-1709369</td><td>1.2398</td><td>-17.1603</td><td>None</td><td>2000</td><td>None</td><td>Crif05</td><td>None</td><td>None</td></tr>\n",
       "<tr><td>2MASS J00054844-2157196</td><td>1.4519</td><td>-21.9555</td><td>None</td><td>2000</td><td>None</td><td>Reyl04</td><td>None</td><td>None</td></tr>\n",
       "<tr><td>2MASS J00070787-2458042</td><td>1.7827917</td><td>-24.967833</td><td>None</td><td>None</td><td>0007-2458</td><td>Reyl04</td><td>None</td><td>None</td></tr>\n",
       "<tr><td>...</td><td>...</td><td>...</td><td>...</td><td>...</td><td>...</td><td>...</td><td>...</td><td>...</td></tr>\n",
       "<tr><td>WISEU J013522.46-221957.3</td><td>23.84358333333333</td><td>-22.332583333333332</td><td>None</td><td>None</td><td>None</td><td>Meis20.123</td><td>None</td><td>None</td></tr>\n",
       "<tr><td>WISEU J050305.68-564834.0</td><td>75.77366666666666</td><td>-56.809444444444445</td><td>None</td><td>None</td><td>None</td><td>Meis20.123</td><td>None</td><td>None</td></tr>\n",
       "<tr><td>WISP 030741.12-724357.5</td><td>46.9259</td><td>-72.7311</td><td>None</td><td>2000</td><td>None</td><td>Mast12.14</td><td>None</td><td>None</td></tr>\n",
       "<tr><td>WISP 123242.42-003306.7</td><td>188.1768</td><td>-0.5519</td><td>None</td><td>2000</td><td>None</td><td>Mast12.14</td><td>None</td><td>None</td></tr>\n",
       "<tr><td>Wolf 359</td><td>164.12027</td><td>7.014658</td><td>None</td><td>None</td><td>1056+0700</td><td>Gicl59</td><td>None</td><td>None</td></tr>\n",
       "<tr><td>Wolf 940B</td><td>326.6628</td><td>-0.1776</td><td>None</td><td>2000</td><td>None</td><td>Burn09</td><td>None</td><td>None</td></tr>\n",
       "<tr><td>[BMZ2001] S Ori J053814.5-024512</td><td>84.559125</td><td>-2.7532778</td><td>None</td><td>None</td><td>None</td><td>Missing</td><td>None</td><td>None</td></tr>\n",
       "<tr><td>[HB88] M18</td><td>319.6324</td><td>-45.0979</td><td>None</td><td>2000</td><td>None</td><td>Hawk88</td><td>None</td><td>None</td></tr>\n",
       "<tr><td>[HB88] M20</td><td>322.536</td><td>-44.7745</td><td>None</td><td>2000</td><td>None</td><td>Kirk11</td><td>None</td><td>Best20 lists discovery as Hawk88a; Kirk11</td></tr>\n",
       "<tr><td>[LDC2013] J160918.68-222923.9</td><td>242.32787</td><td>-22.48992</td><td>None</td><td>None</td><td>1609-2229</td><td>Lodi07.372</td><td>None</td><td>None</td></tr>\n",
       "</table></div>"
      ],
      "text/plain": [
       "<Table length=3145>\n",
       "             source              ...                  comments                \n",
       "             str32               ...                   object                 \n",
       "-------------------------------- ... -----------------------------------------\n",
       "           1RXS J115928.5-524717 ...                                      None\n",
       "         2MASS J00011217+1535355 ...                                      None\n",
       "         2MASS J00034227-2822410 ...                                      None\n",
       "         2MASS J00040288-6410358 ...                                      None\n",
       "         2MASS J00043484-4044058 ...                                      None\n",
       "         2MASS J00044144-2058298 ...                                      None\n",
       "         2MASS J00045753-1709369 ...                                      None\n",
       "         2MASS J00054844-2157196 ...                                      None\n",
       "         2MASS J00070787-2458042 ...                                      None\n",
       "                             ... ...                                       ...\n",
       "       WISEU J013522.46-221957.3 ...                                      None\n",
       "       WISEU J050305.68-564834.0 ...                                      None\n",
       "         WISP 030741.12-724357.5 ...                                      None\n",
       "         WISP 123242.42-003306.7 ...                                      None\n",
       "                        Wolf 359 ...                                      None\n",
       "                       Wolf 940B ...                                      None\n",
       "[BMZ2001] S Ori J053814.5-024512 ...                                      None\n",
       "                      [HB88] M18 ...                                      None\n",
       "                      [HB88] M20 ... Best20 lists discovery as Hawk88a; Kirk11\n",
       "   [LDC2013] J160918.68-222923.9 ...                                      None"
      ]
     },
     "execution_count": 5,
     "metadata": {},
     "output_type": "execute_result"
    }
   ],
   "source": [
    "db.search_object('wise', fmt='astropy')"
   ]
  },
  {
   "cell_type": "markdown",
   "id": "aa12de60",
   "metadata": {},
   "source": [
    "### Search by Object"
   ]
  },
  {
   "cell_type": "markdown",
   "id": "3d08ef03",
   "metadata": {},
   "source": [
    "So you found the object youre looking for - lets now narrow down that query."
   ]
  },
  {
   "cell_type": "markdown",
   "id": "d923dc1c",
   "metadata": {},
   "source": [
    "Lets see many names are associated with the object WISEPC J0333"
   ]
  },
  {
   "cell_type": "code",
   "execution_count": 6,
   "id": "06145ba6",
   "metadata": {},
   "outputs": [
    {
     "name": "stdout",
     "output_type": "stream",
     "text": [
      "No Simbad match for WISEPC J0333\n",
      "Including Simbad names, searching for: ['WISEPC J0333']\n",
      "Using table 'Sources' with columns ['source'] for matching object names\n",
      "Using table 'Names' with columns ['other_name'] for matching object names\n"
     ]
    },
    {
     "data": {
      "text/html": [
       "<div><i>Table length=3</i>\n",
       "<table id=\"table5435081264\" class=\"table-striped table-bordered table-condensed\">\n",
       "<thead><tr><th>source</th><th>other_name</th></tr></thead>\n",
       "<thead><tr><th>str26</th><th>str26</th></tr></thead>\n",
       "<tr><td>WISEPC J033349.34-585618.7</td><td>CWISE J033349.31-585619.8</td></tr>\n",
       "<tr><td>WISEPC J033349.34-585618.7</td><td>VHS J033349.30-585620.2</td></tr>\n",
       "<tr><td>WISEPC J033349.34-585618.7</td><td>WISEPC J033349.34-585618.7</td></tr>\n",
       "</table></div>"
      ],
      "text/plain": [
       "<Table length=3>\n",
       "          source                   other_name        \n",
       "          str26                      str26           \n",
       "-------------------------- --------------------------\n",
       "WISEPC J033349.34-585618.7  CWISE J033349.31-585619.8\n",
       "WISEPC J033349.34-585618.7    VHS J033349.30-585620.2\n",
       "WISEPC J033349.34-585618.7 WISEPC J033349.34-585618.7"
      ]
     },
     "execution_count": 6,
     "metadata": {},
     "output_type": "execute_result"
    }
   ],
   "source": [
    "db.search_object('WISEPC J0333', resolve_simbad=True, output_table='Names')"
   ]
  },
  {
   "cell_type": "markdown",
   "id": "9c3c93a7",
   "metadata": {},
   "source": [
    "### Inventory Check"
   ]
  },
  {
   "cell_type": "markdown",
   "id": "3ac5f930",
   "metadata": {},
   "source": [
    "We know the source exist, so now we want to see all the data associated with the source. \n",
    "Inventory documentation: https://astrodbkit.readthedocs.io/en/latest/#inventory-search"
   ]
  },
  {
   "cell_type": "code",
   "execution_count": 7,
   "id": "b73b9b80",
   "metadata": {},
   "outputs": [
    {
     "name": "stdout",
     "output_type": "stream",
     "text": [
      "{\n",
      "    \"Sources\": [\n",
      "        {\n",
      "            \"source\": \"WISEPC J033349.34-585618.7\",\n",
      "            \"ra\": 53.4557,\n",
      "            \"dec\": -58.9384,\n",
      "            \"epoch\": null,\n",
      "            \"equinox\": \"2000\",\n",
      "            \"shortname\": null,\n",
      "            \"reference\": \"Kirk11\",\n",
      "            \"other_references\": null,\n",
      "            \"comments\": null\n",
      "        }\n",
      "    ],\n",
      "    \"Names\": [\n",
      "        {\n",
      "            \"other_name\": \"CWISE J033349.31-585619.8\"\n",
      "        },\n",
      "        {\n",
      "            \"other_name\": \"VHS J033349.30-585620.2\"\n",
      "        },\n",
      "        {\n",
      "            \"other_name\": \"WISEPC J033349.34-585618.7\"\n",
      "        }\n",
      "    ],\n",
      "    \"Parallaxes\": [\n",
      "        {\n",
      "            \"parallax\": 46.2,\n",
      "            \"parallax_error\": 3.7,\n",
      "            \"adopted\": true,\n",
      "            \"comments\": null,\n",
      "            \"reference\": \"Kirk21\"\n",
      "        }\n",
      "    ],\n",
      "    \"Photometry\": [\n",
      "        {\n",
      "            \"band\": \"IRAC.I1\",\n",
      "            \"magnitude\": 13.59,\n",
      "            \"magnitude_error\": 0.02,\n",
      "            \"telescope\": \"Spitzer\",\n",
      "            \"epoch\": null,\n",
      "            \"comments\": null,\n",
      "            \"reference\": \"Kirk11\"\n",
      "        },\n",
      "        {\n",
      "            \"band\": \"IRAC.I2\",\n",
      "            \"magnitude\": 13.3,\n",
      "            \"magnitude_error\": 0.02,\n",
      "            \"telescope\": \"Spitzer\",\n",
      "            \"epoch\": null,\n",
      "            \"comments\": null,\n",
      "            \"reference\": \"Kirk11\"\n",
      "        },\n",
      "        {\n",
      "            \"band\": \"VISTA.J\",\n",
      "            \"magnitude\": 15.73,\n",
      "            \"magnitude_error\": 0.005,\n",
      "            \"telescope\": \"VISTA\",\n",
      "            \"epoch\": null,\n",
      "            \"comments\": null,\n",
      "            \"reference\": \"McMa13\"\n",
      "        },\n",
      "        {\n",
      "            \"band\": \"WISE.W1\",\n",
      "            \"magnitude\": 14.037,\n",
      "            \"magnitude_error\": 0.017,\n",
      "            \"telescope\": \"WISE\",\n",
      "            \"epoch\": null,\n",
      "            \"comments\": \"Ingested from the Ultracool Sheet. Cross match to CatWISE done by Sanghi et al. 2023 (10.3847/1538-4357/acff66).\",\n",
      "            \"reference\": \"Maro21\"\n",
      "        },\n",
      "        {\n",
      "            \"band\": \"WISE.W2\",\n",
      "            \"magnitude\": 13.313,\n",
      "            \"magnitude_error\": 0.013,\n",
      "            \"telescope\": \"WISE\",\n",
      "            \"epoch\": null,\n",
      "            \"comments\": \"Ingested from the Ultracool Sheet. Cross match to CatWISE done by Sanghi et al. 2023 (10.3847/1538-4357/acff66).\",\n",
      "            \"reference\": \"Maro21\"\n",
      "        },\n",
      "        {\n",
      "            \"band\": \"WISE.W3\",\n",
      "            \"magnitude\": 12.22,\n",
      "            \"magnitude_error\": 0.225,\n",
      "            \"telescope\": \"WISE\",\n",
      "            \"epoch\": null,\n",
      "            \"comments\": \"Ingested from the Ultracool Sheet. Cross match to CatWISE done by Sanghi et al. 2023 (10.3847/1538-4357/acff66).\",\n",
      "            \"reference\": \"Cutr13\"\n",
      "        }\n",
      "    ],\n",
      "    \"ProperMotions\": [\n",
      "        {\n",
      "            \"mu_ra\": -126.0,\n",
      "            \"mu_ra_error\": 8.0,\n",
      "            \"mu_dec\": -607.0,\n",
      "            \"mu_dec_error\": 7.0,\n",
      "            \"adopted\": false,\n",
      "            \"comments\": null,\n",
      "            \"reference\": \"Kirk11\"\n",
      "        },\n",
      "        {\n",
      "            \"mu_ra\": -142.7,\n",
      "            \"mu_ra_error\": 3.8,\n",
      "            \"mu_dec\": -620.0,\n",
      "            \"mu_dec_error\": 3.4,\n",
      "            \"adopted\": true,\n",
      "            \"comments\": \"Ingested from the Ultracool Sheet. Cross match to CatWISE done by Sanghi et al. 2023 (10.3847/1538-4357/acff66).\",\n",
      "            \"reference\": \"Maro21\"\n",
      "        }\n",
      "    ],\n",
      "    \"SpectralTypes\": [\n",
      "        {\n",
      "            \"spectral_type_string\": \"T3\",\n",
      "            \"spectral_type_code\": 83.0,\n",
      "            \"spectral_type_error\": null,\n",
      "            \"regime\": \"nir\",\n",
      "            \"adopted\": null,\n",
      "            \"photometric\": null,\n",
      "            \"comments\": null,\n",
      "            \"reference\": \"Kirk11\"\n",
      "        }\n",
      "    ]\n",
      "}\n"
     ]
    }
   ],
   "source": [
    "data = db.inventory('WISEPC J033349.34-585618.7', pretty_print=True)"
   ]
  },
  {
   "cell_type": "markdown",
   "id": "bf8d6221",
   "metadata": {},
   "source": [
    "### Search by String"
   ]
  },
  {
   "cell_type": "markdown",
   "id": "78166d9c",
   "metadata": {},
   "source": [
    "Now lets do a broader search, say you want to find all objects with the publication reference \"Cruz18\" "
   ]
  },
  {
   "cell_type": "markdown",
   "id": "6eaea4ee",
   "metadata": {},
   "source": [
    "Within astrodbkit, we allow for the parameter format (fmt) so that you can decide how you wish to visualize your query. Your options are pandas, astropy, or default (default is an astropy table)"
   ]
  },
  {
   "cell_type": "markdown",
   "id": "ab20b4a0",
   "metadata": {},
   "source": [
    "Search string documentation: https://astrodbkit.readthedocs.io/en/latest/#full-string-search"
   ]
  },
  {
   "cell_type": "code",
   "execution_count": 8,
   "id": "147cb0e8",
   "metadata": {},
   "outputs": [
    {
     "name": "stdout",
     "output_type": "stream",
     "text": [
      "Sources\n",
      "         source               ra      ... other_references   comments  \n",
      "----------------------- ------------- ... ---------------- ------------\n",
      "2MASS J15382417-1953116     234.60071 ...             None         None\n",
      "2MASS J00110940+5149236      2.789182 ...             None         None\n",
      "2MASS J15063706+2759544     226.65421 ...             None       galaxy\n",
      "2MASS J05583706-1339123     89.654445 ...             None         None\n",
      "2MASS J23490528+1833150       357.272 ...             None         None\n",
      "2MASS J23202927+4123415     350.12167 ...             None         None\n",
      "2MASS J22433237-1525260    340.884859 ...             None         None\n",
      "2MASS J12490458-3454080     192.26979 ...             None       galaxy\n",
      "2MASS J23364145+4822480    354.172713 ...             None         None\n",
      "2MASS J05574102-1333264     89.420954 ...             None        not M\n",
      "                    ...           ... ...              ...          ...\n",
      "2MASS J05574229-1333156     89.426209 ...             None not M/galaxy\n",
      "2MASS J23153135+0617146    348.880659 ...             None         None\n",
      "2MASS J23255604-0259508     351.48352 ...             None         None\n",
      "2MASS J02561474+1935213 44.0614166667 ...             None         None\n",
      "2MASS J04214954+1528598 65.4564166667 ...             None         None\n",
      "2MASS J08555320-0259207     133.97129 ...             None        giant\n",
      "2MASS J22400942+3848306    340.039273 ...             None         None\n",
      "2MASS J20151370-1252571     303.80692 ...             None       galaxy\n",
      "2MASS J13570485-3946356 209.270208333 ...             None         None\n",
      "2MASS J12475047-0152142    191.960334 ...             None         None\n",
      "Length = 24 rows\n",
      "Publications\n",
      "reference ...\n",
      "--------- ...\n",
      "   Cruz18 ...\n",
      "Spectra\n",
      "         source         ... other_references\n",
      "----------------------- ... ----------------\n",
      "2MASS J15382417-1953116 ...             None\n",
      "2MASS J00011217+1535355 ...             None\n",
      "2MASS J01443536-0716142 ...             None\n",
      "2MASS J15311344+1641282 ...             None\n",
      "2MASS J03101401-2756452 ...             None\n",
      "2MASS J15515237+0941148 ...             None\n",
      "2MASS J15515237+0941148 ...             None\n",
      "2MASS J15515237+0941148 ...             None\n",
      "2MASS J15515237+0941148 ...             None\n",
      "2MASS J15515237+0941148 ...             None\n",
      "                    ... ...              ...\n",
      "2MASS J21420580-3101162 ...             None\n",
      "2MASS J00332386-1521309 ...             None\n",
      "2MASS J13570485-3946356 ...             None\n",
      "2MASS J12475047-0152142 ...             None\n",
      "2MASS J22545194-2840253 ...             None\n",
      "             LP 655- 48 ...             None\n",
      "2MASS J12312141+4959234 ...             None\n",
      "2MASS J05341594-0631397 ...             None\n",
      "2MASS J15392137+6502364 ...             None\n",
      "2MASS J22490917+3205489 ...             None\n",
      "Length = 186 rows\n"
     ]
    },
    {
     "data": {
      "text/plain": [
       "{'Sources': <Table length=24>\n",
       "          source               ra      ... other_references   comments  \n",
       "          str23             float64    ...      object         object   \n",
       " ----------------------- ------------- ... ---------------- ------------\n",
       " 2MASS J15382417-1953116     234.60071 ...             None         None\n",
       " 2MASS J00110940+5149236      2.789182 ...             None         None\n",
       " 2MASS J15063706+2759544     226.65421 ...             None       galaxy\n",
       " 2MASS J05583706-1339123     89.654445 ...             None         None\n",
       " 2MASS J23490528+1833150       357.272 ...             None         None\n",
       " 2MASS J23202927+4123415     350.12167 ...             None         None\n",
       " 2MASS J22433237-1525260    340.884859 ...             None         None\n",
       " 2MASS J12490458-3454080     192.26979 ...             None       galaxy\n",
       " 2MASS J23364145+4822480    354.172713 ...             None         None\n",
       "                     ...           ... ...              ...          ...\n",
       " 2MASS J05574229-1333156     89.426209 ...             None not M/galaxy\n",
       " 2MASS J23153135+0617146    348.880659 ...             None         None\n",
       " 2MASS J23255604-0259508     351.48352 ...             None         None\n",
       " 2MASS J02561474+1935213 44.0614166667 ...             None         None\n",
       " 2MASS J04214954+1528598 65.4564166667 ...             None         None\n",
       " 2MASS J08555320-0259207     133.97129 ...             None        giant\n",
       " 2MASS J22400942+3848306    340.039273 ...             None         None\n",
       " 2MASS J20151370-1252571     303.80692 ...             None       galaxy\n",
       " 2MASS J13570485-3946356 209.270208333 ...             None         None\n",
       " 2MASS J12475047-0152142    191.960334 ...             None         None,\n",
       " 'Publications': <Table length=1>\n",
       " reference ...\n",
       "    str6   ...\n",
       " --------- ...\n",
       "    Cruz18 ...,\n",
       " 'Spectra': <Table length=186>\n",
       "          source         ... other_references\n",
       "          str24          ...      object     \n",
       " ----------------------- ... ----------------\n",
       " 2MASS J15382417-1953116 ...             None\n",
       " 2MASS J00011217+1535355 ...             None\n",
       " 2MASS J01443536-0716142 ...             None\n",
       " 2MASS J15311344+1641282 ...             None\n",
       " 2MASS J03101401-2756452 ...             None\n",
       " 2MASS J15515237+0941148 ...             None\n",
       " 2MASS J15515237+0941148 ...             None\n",
       " 2MASS J15515237+0941148 ...             None\n",
       " 2MASS J15515237+0941148 ...             None\n",
       "                     ... ...              ...\n",
       " 2MASS J21420580-3101162 ...             None\n",
       " 2MASS J00332386-1521309 ...             None\n",
       " 2MASS J13570485-3946356 ...             None\n",
       " 2MASS J12475047-0152142 ...             None\n",
       " 2MASS J22545194-2840253 ...             None\n",
       "              LP 655- 48 ...             None\n",
       " 2MASS J12312141+4959234 ...             None\n",
       " 2MASS J05341594-0631397 ...             None\n",
       " 2MASS J15392137+6502364 ...             None\n",
       " 2MASS J22490917+3205489 ...             None}"
      ]
     },
     "execution_count": 8,
     "metadata": {},
     "output_type": "execute_result"
    }
   ],
   "source": [
    "db.search_string('Cruz18', fuzzy_search=False, fmt='astropy')  #fmt options: pandas, astropy/table, default"
   ]
  },
  {
   "cell_type": "markdown",
   "id": "14912036",
   "metadata": {},
   "source": [
    "### Search by Region "
   ]
  },
  {
   "cell_type": "markdown",
   "id": "9291275e",
   "metadata": {},
   "source": [
    "Next example is query region, where you can use SkyCoord to create a coordinates object that query_region uses to query the database, in this example the Sources table. Make sure to use as accurate as a coordinate as possible. \n",
    "\n",
    "Query_Region Documentation: https://astrodbkit.readthedocs.io/en/latest/#region-spatial-search"
   ]
  },
  {
   "cell_type": "markdown",
   "id": "029fa8c4",
   "metadata": {},
   "source": [
    "Notes on Query Region: \n",
    "If you have the exact coordinates of the object you are searching you can use query_region as shown. However, if you don't you can enter the optional parameter \"radius=x\" to allow for a larger search radius, otherwise you will get back an empty query if your coordinates aren't precise enough"
   ]
  },
  {
   "cell_type": "code",
   "execution_count": 11,
   "id": "84eca441",
   "metadata": {},
   "outputs": [
    {
     "name": "stdout",
     "output_type": "stream",
     "text": [
      "Table Results for (144.395292, 29.528028): \n",
      "          source             ra        dec    ... other_references comments\n",
      "----------------------- ---------- --------- ... ---------------- --------\n",
      "2MASS J09373487+2931409 144.395292 29.528028 ...             None     None\n",
      "\n",
      "Table Results for (144.3, 29.5): \n",
      " <No columns>\n",
      "\n",
      "Table Results for (144.395, 29.528, radius=60.0 arcsecs): \n",
      "          source             ra        dec    ... other_references comments\n",
      "----------------------- ---------- --------- ... ---------------- --------\n",
      "2MASS J09373487+2931409 144.395292 29.528028 ...             None     None\n",
      "\n"
     ]
    }
   ],
   "source": [
    "from astropy.units.quantity import Quantity\n",
    "\n",
    "# An example of query with precise coordinates ----------\n",
    "precise_coords = db.query_region(SkyCoord(144.395292, 29.528028, frame='icrs', unit='deg'), output_table='Sources', ra_col='ra', dec_col='dec')  \n",
    "print(f'Table Results for (144.395292, 29.528028): \\n {precise_coords}\\n')\n",
    "\n",
    "# An example that queries the database incorrectly\n",
    "imprecise_coords = db.query_region(SkyCoord(144.3, 29.5, frame='icrs', unit='deg'), output_table='Sources', ra_col='ra', dec_col='dec') \n",
    "print(f'Table Results for (144.3, 29.5): \\n {imprecise_coords}\\n')\n",
    "\n",
    "# An example that queries the database using the radius parameter\n",
    "larger_search_area = db.query_region(SkyCoord(144.395, 29.528, frame='icrs', unit='deg'), radius=Quantity(60., unit='arcsec'), output_table='Sources', ra_col='ra', dec_col='dec',)\n",
    "print(f'Table Results for (144.395, 29.528, radius=60.0 arcsecs): \\n {(larger_search_area)}\\n')"
   ]
  }
 ],
 "metadata": {
  "kernelspec": {
   "display_name": "simple-db",
   "language": "python",
   "name": "python3"
  },
  "language_info": {
   "codemirror_mode": {
    "name": "ipython",
    "version": 3
   },
   "file_extension": ".py",
   "mimetype": "text/x-python",
   "name": "python",
   "nbconvert_exporter": "python",
   "pygments_lexer": "ipython3",
   "version": "3.12.10"
  }
 },
 "nbformat": 4,
 "nbformat_minor": 5
}
