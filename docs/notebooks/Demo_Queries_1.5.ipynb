{
 "cells": [
  {
   "cell_type": "markdown",
   "id": "1ffa299a",
   "metadata": {},
   "source": [
    "# Advanced Queries using Python and SQL"
   ]
  },
  {
   "cell_type": "markdown",
   "id": "4105070b",
   "metadata": {},
   "source": [
    "## Load in the Database "
   ]
  },
  {
   "cell_type": "code",
   "execution_count": 1,
   "id": "f244041f",
   "metadata": {},
   "outputs": [],
   "source": [
    "from astrodb_utils import load_astrodb\n",
    "from simple import REFERENCE_TABLES\n",
    "\n",
    "SCHEMA_PATH = \"../../simple/schema.yaml\" \n",
    "recreatedb = False #Set to True or False\n",
    "db = load_astrodb(\n",
    "     \"../../SIMPLE.sqlite\", \n",
    "     recreatedb=recreatedb,  \n",
    "     reference_tables=REFERENCE_TABLES, \n",
    "     felis_schema=SCHEMA_PATH\n",
    "     )"
   ]
  },
  {
   "cell_type": "markdown",
   "id": "fae1c2a9",
   "metadata": {},
   "source": [
    "## Let first use astrodb_utils.sql_query to run a SQL query directly \n",
    "AstrodbUtils's function sql_query acts as a wrapped for direct SQL queries, taking in two parameters: query (str), and fmt (str: pandas, astropy, defualt). "
   ]
  },
  {
   "cell_type": "code",
   "execution_count": 32,
   "id": "60df2dd6",
   "metadata": {},
   "outputs": [
    {
     "name": "stdout",
     "output_type": "stream",
     "text": [
      "\n",
      "Query with multiple conditions, filtering sources with dec > 0 and ra < 200 degrees:\n",
      "Showing the first 10 results out of 1334 sources:\n"
     ]
    },
    {
     "data": {
      "text/html": [
       "<div><i>Table length=10</i>\n",
       "<table id=\"table4408630624\" class=\"table-striped table-bordered table-condensed\">\n",
       "<thead><tr><th>source</th><th>ra</th><th>dec</th><th>epoch</th><th>equinox</th><th>shortname</th><th>reference</th><th>other_references</th><th>comments</th></tr></thead>\n",
       "<thead><tr><th>str24</th><th>float64</th><th>float64</th><th>object</th><th>object</th><th>object</th><th>str11</th><th>object</th><th>object</th></tr></thead>\n",
       "<tr><td>2MASS J03552014+1439297</td><td>58.83375</td><td>14.658056</td><td>None</td><td>None</td><td>None</td><td>Cruz07</td><td>None</td><td>None</td></tr>\n",
       "<tr><td>PSO J024.4369+09.1360</td><td>24.4372</td><td>9.1366</td><td>None</td><td>2000</td><td>None</td><td>Skrz16</td><td>None</td><td>Best20 lists discovery as Skrz16; Best20a</td></tr>\n",
       "<tr><td>SDSS J094903.15+264944.2</td><td>147.2633</td><td>26.8288</td><td>None</td><td>2000</td><td>None</td><td>Schm10.1808</td><td>None</td><td>None</td></tr>\n",
       "<tr><td>2MASS J09373487+2931409</td><td>144.395292</td><td>29.528028</td><td>None</td><td>None</td><td>0937+2931</td><td>Burg02.421</td><td>None</td><td>None</td></tr>\n",
       "<tr><td>HIP 6407B</td><td>20.5707</td><td>3.5232</td><td>None</td><td>2000</td><td>None</td><td>Deac14.119</td><td>None</td><td>None</td></tr>\n",
       "<tr><td>2MASS J11260310+4819256</td><td>171.5128</td><td>48.3239</td><td>None</td><td>2000</td><td>None</td><td>Kell15</td><td>None</td><td>None</td></tr>\n",
       "<tr><td>LHS 1937</td><td>115.27833</td><td>17.645833</td><td>None</td><td>None</td><td>None</td><td>Luyt79.5</td><td>None</td><td>None</td></tr>\n",
       "<tr><td>ULAS J095047.28+011734.3</td><td>147.6971</td><td>1.2925</td><td>None</td><td>2000</td><td>None</td><td>Burn13</td><td>None</td><td>None</td></tr>\n",
       "<tr><td>2MASSI J1029216+162652</td><td>157.3404</td><td>16.4477</td><td>None</td><td>2000</td><td>None</td><td>Kirk00</td><td>None</td><td>None</td></tr>\n",
       "<tr><td>ULAS J115229.68+035927.3</td><td>178.1235</td><td>3.9908</td><td>None</td><td>2000</td><td>None</td><td>Scho12</td><td>None</td><td>Best20 lists discovery as Scho12; Burn13</td></tr>\n",
       "</table></div>"
      ],
      "text/plain": [
       "<Table length=10>\n",
       "         source          ...                  comments                \n",
       "         str24           ...                   object                 \n",
       "------------------------ ... -----------------------------------------\n",
       " 2MASS J03552014+1439297 ...                                      None\n",
       "   PSO J024.4369+09.1360 ... Best20 lists discovery as Skrz16; Best20a\n",
       "SDSS J094903.15+264944.2 ...                                      None\n",
       " 2MASS J09373487+2931409 ...                                      None\n",
       "               HIP 6407B ...                                      None\n",
       " 2MASS J11260310+4819256 ...                                      None\n",
       "                LHS 1937 ...                                      None\n",
       "ULAS J095047.28+011734.3 ...                                      None\n",
       "  2MASSI J1029216+162652 ...                                      None\n",
       "ULAS J115229.68+035927.3 ...  Best20 lists discovery as Scho12; Burn13"
      ]
     },
     "execution_count": 32,
     "metadata": {},
     "output_type": "execute_result"
    }
   ],
   "source": [
    "from sqlalchemy import and_, or_\n",
    "\n",
    "#Uncomment the following lines to see how to use AND and OR in queries\n",
    "\n",
    "# Query with multiple conditions\n",
    "print(\"\\nQuery with multiple conditions, filtering sources with dec > 0 and ra < 200 degrees:\")\n",
    "print(f\"Showing the first 10 results out of {len(db.query(db.Sources).filter(db.Sources.c.dec > 0).filter(db.Sources.c.ra < 200).all())} sources:\")\n",
    "db.query(db.Sources).filter(db.Sources.c.dec > 0).filter(db.Sources.c.ra < 200).limit(10).table()\n",
    "\n",
    "# #  Query with AND\n",
    "# print(\"\\nQuery with AND, filtering sources with dec > 0 and ra > 200 degrees:\")\n",
    "# print(f\"Showing the first 10 results out of {len(db.query(db.Sources).filter(and_(db.Sources.c.dec > 0, db.Sources.c.ra > 200)).all())} sources:\")\n",
    "# db.query(db.Sources).filter(and_(db.Sources.c.dec > 0, db.Sources.c.ra > 200)).limit(10).table()\n",
    "\n",
    "\n",
    "# #  Query with OR\n",
    "# print(\"\\nQuery with OR, filtering sources with dec < 0 or ra > 200 degrees:\")\n",
    "# print(f\"Showing the first 10 results out of {len(db.query(db.Sources).filter(or_(db.Sources.c.dec < 0, db.Sources.c.ra > 200)).all())} sources:\")\n",
    "# db.query(db.Sources).filter(or_(db.Sources.c.dec < 0, db.Sources.c.ra > 200)).limit(10).table()\n"
   ]
  },
  {
   "cell_type": "markdown",
   "id": "69912aad",
   "metadata": {},
   "source": [
    "### Query the count of sources in the database"
   ]
  },
  {
   "cell_type": "code",
   "execution_count": 33,
   "id": "19aa317e",
   "metadata": {},
   "outputs": [
    {
     "name": "stdout",
     "output_type": "stream",
     "text": [
      "Total number of objects in the SIMPLE database: 3619\n"
     ]
    }
   ],
   "source": [
    "# Query the total number of objects within SIMPLE\n",
    "result = db.sql_query(\"SELECT COUNT(*) FROM Sources\", fmt='astropy')\n",
    "total_objects = result[0][0]\n",
    "\n",
    "\n",
    "print(f\"Total number of objects in the SIMPLE database: {total_objects}\")"
   ]
  },
  {
   "cell_type": "markdown",
   "id": "7b517acd",
   "metadata": {},
   "source": [
    "### Query Sources by String "
   ]
  },
  {
   "cell_type": "code",
   "execution_count": 34,
   "id": "6444304a",
   "metadata": {},
   "outputs": [
    {
     "name": "stdout",
     "output_type": "stream",
     "text": [
      "Found 616 WISE sources in the database\n",
      "\n",
      "First Three WISE Sources:\n",
      "          source                   ra               dec         epoch equinox shortname reference other_references comments\n",
      "-------------------------- ----------------- ------------------ ----- ------- --------- --------- ---------------- --------\n",
      "CWISEP J230158.30-645858.3 345.4929166666666 -64.98286111111112  None    None      None Meis20.74             None     None\n",
      "         source             ra     dec    epoch equinox shortname reference other_references comments\n",
      "------------------------ ------- -------- ----- ------- --------- --------- ---------------- --------\n",
      "WISE J200403.17-263751.7 301.013 -26.6293  None    2000      None    Thom13             None     None\n",
      "          source                  ra                 dec         epoch equinox shortname reference  other_references comments\n",
      "------------------------- ------------------ ------------------- ----- ------- --------- ---------- ---------------- --------\n",
      "WISEA J012834.87-280302.5 22.145291666666665 -28.050694444444446  None    None      None Meis20.123             None     None\n"
     ]
    }
   ],
   "source": [
    "wise_sources_query = \"SELECT * FROM Sources WHERE source LIKE '%WISE%'\"\n",
    "wise_sources = db.sql_query(wise_sources_query, fmt='astropy')\n",
    "\n",
    "print(f\"Found {len(wise_sources)} WISE sources in the database\")\n",
    "print(\"\\nFirst Three WISE Sources:\")\n",
    "for source in wise_sources[:3]:  # Display first 3 sources\n",
    "    print(source)"
   ]
  },
  {
   "cell_type": "markdown",
   "id": "a69f4515",
   "metadata": {},
   "source": [
    "### Query by Program ID (\"PID\")"
   ]
  },
  {
   "cell_type": "code",
   "execution_count": 37,
   "id": "16631ad3",
   "metadata": {},
   "outputs": [
    {
     "name": "stdout",
     "output_type": "stream",
     "text": [
      "Found 55 spectra with PID references in the database\n"
     ]
    },
    {
     "data": {
      "text/html": [
       "<div><i>Table length=55</i>\n",
       "<table id=\"table5731856848\" class=\"table-striped table-bordered table-condensed\">\n",
       "<thead><tr><th>source</th><th>access_url</th><th>original_spectrum</th><th>local_spectrum</th><th>regime</th><th>telescope</th><th>instrument</th><th>mode</th><th>observation_date</th><th>comments</th><th>reference</th><th>other_references</th></tr></thead>\n",
       "<thead><tr><th>str24</th><th>str67</th><th>object</th><th>str43</th><th>str3</th><th>str7</th><th>str3</th><th>str7</th><th>str26</th><th>object</th><th>str8</th><th>object</th></tr></thead>\n",
       "<tr><td>VB 10</td><td>https://s3.amazonaws.com/bdnyc/Gl+752B+%285-35um%29.txt</td><td>None</td><td>$BDNYC_spectra/IRS/Gl 752B (5-35um).txt</td><td>mir</td><td>Spitzer</td><td>IRS</td><td>Missing</td><td>2005-10-11 00:00:00.000000</td><td>None</td><td>PID29</td><td>None</td></tr>\n",
       "<tr><td>2MASS J10042066+5022596</td><td>https://s3.amazonaws.com/bdnyc/IRS/G196-3B.txt</td><td>None</td><td>$BDNYC_spectra/IRS/G196-3B.txt</td><td>mir</td><td>Spitzer</td><td>IRS</td><td>Missing</td><td>2004-04-17 04:40:11.761000</td><td>None</td><td>PID51</td><td>None</td></tr>\n",
       "<tr><td>2MASS J10224821+5825453</td><td>https://s3.amazonaws.com/bdnyc/IRS/1022%2B5825.txt</td><td>None</td><td>$BDNYC_spectra/IRS/1022+5825.txt</td><td>mir</td><td>Spitzer</td><td>IRS</td><td>Missing</td><td>2005-04-16 13:45:42.752000</td><td>None</td><td>PID3136</td><td>None</td></tr>\n",
       "<tr><td>2MASS J12392727+5515371</td><td>https://s3.amazonaws.com/bdnyc/1239%2B5515.txt</td><td>None</td><td>$BDNYC_spectra/IRS/1239+5515.txt</td><td>mir</td><td>Spitzer</td><td>IRS</td><td>Missing</td><td>2004-04-18 02:01:06.605000</td><td>None</td><td>PID51</td><td>None</td></tr>\n",
       "<tr><td>2MASS J00001354+2554180</td><td>https://s3.amazonaws.com/bdnyc/IRS/0000%2B2554%20%285-14.5um%29.txt</td><td>None</td><td>$BDNYC_spectra/IRS/0000+2554 (5-14.5um).txt</td><td>mir</td><td>Spitzer</td><td>IRS</td><td>Missing</td><td>2005-12-18 00:00:00.000000</td><td>None</td><td>PID20514</td><td>None</td></tr>\n",
       "<tr><td>2MASS J07464256+2000321</td><td>https://s3.amazonaws.com/bdnyc/0746%2B2000.txt</td><td>None</td><td>$BDNYC_spectra/IRS/0746+2000.txt</td><td>mir</td><td>Spitzer</td><td>IRS</td><td>Missing</td><td>2004-03-27 00:32:11.624000</td><td>None</td><td>PID51</td><td>None</td></tr>\n",
       "<tr><td>2MASS J20575409-0252302</td><td>https://s3.amazonaws.com/bdnyc/2057-0252.txt</td><td>None</td><td>$BDNYC_spectra/IRS/2057-0252.txt</td><td>mir</td><td>Spitzer</td><td>IRS</td><td>SL</td><td>2005-05-25 01:56:38.317000</td><td>None</td><td>PID3136</td><td>None</td></tr>\n",
       "<tr><td>LP  440-52</td><td>https://s3.amazonaws.com/bdnyc/IRS/LHS377.txt</td><td>None</td><td>$BDNYC_spectra/IRS/LHS377.txt</td><td>mir</td><td>Spitzer</td><td>IRS</td><td>Missing</td><td>2005-07-01 00:00:00.000000</td><td>None</td><td>PID251</td><td>None</td></tr>\n",
       "<tr><td>2MASS J12373919+6526148</td><td>https://s3.amazonaws.com/bdnyc/IRS/1237%2B6526.txt</td><td>None</td><td>$BDNYC_spectra/IRS/1237+6526.txt</td><td>mir</td><td>Spitzer</td><td>IRS</td><td>SL</td><td>2004-03-03 20:10:57.708000</td><td>None</td><td>PID51</td><td>None</td></tr>\n",
       "<tr><td>...</td><td>...</td><td>...</td><td>...</td><td>...</td><td>...</td><td>...</td><td>...</td><td>...</td><td>...</td><td>...</td><td>...</td></tr>\n",
       "<tr><td>2MASS J00345157+0523050</td><td>https://s3.amazonaws.com/bdnyc/IRS/0034%2B0523.txt</td><td>None</td><td>$BDNYC_spectra/IRS/0034+0523.txt</td><td>mir</td><td>Spitzer</td><td>IRS</td><td>Missing</td><td>2006-01-19 00:00:00.000000</td><td>None</td><td>PID20544</td><td>None</td></tr>\n",
       "<tr><td>2MASS J10365305-3441380</td><td>https://s3.amazonaws.com/bdnyc/IRS/1036-3441.txt</td><td>None</td><td>$BDNYC_spectra/IRS/1036-3441.txt</td><td>mir</td><td>Spitzer</td><td>IRS</td><td>Missing</td><td>2006-01-23 19:26:34.143000</td><td>None</td><td>PID51</td><td>None</td></tr>\n",
       "<tr><td>2MASS J17210390+3344160</td><td>https://s3.amazonaws.com/bdnyc/IRS/1721%2B3344.txt</td><td>None</td><td>$BDNYC_spectra/IRS/1721+3344.txt</td><td>mir</td><td>Spitzer</td><td>IRS</td><td>Missing</td><td>2008-08-01 00:00:00.000000</td><td>None</td><td>PID50059</td><td>None</td></tr>\n",
       "<tr><td>2MASS J11145133-2618235</td><td>https://s3.amazonaws.com/bdnyc/IRS/1114-2618.txt</td><td>None</td><td>$BDNYC_spectra/IRS/1114-2618.txt</td><td>mir</td><td>Spitzer</td><td>IRS</td><td>Missing</td><td>2006-02-01 00:00:00.000000</td><td>None</td><td>PID20544</td><td>None</td></tr>\n",
       "<tr><td>2MASS J10170754+1308398</td><td>https://s3.amazonaws.com/bdnyc/1017%2B1308.txt</td><td>None</td><td>$BDNYC_spectra/IRS/1017+1308.txt</td><td>mir</td><td>Spitzer</td><td>IRS</td><td>SL</td><td>2009-01-19 18:00:15.977000</td><td>None</td><td>PID50367</td><td>None</td></tr>\n",
       "<tr><td>DENIS-P J144137.2-094558</td><td>https://s3.amazonaws.com/bdnyc/IRS/1441-0945.txt</td><td>None</td><td>$BDNYC_spectra/IRS/1441-0945.txt</td><td>mir</td><td>Spitzer</td><td>IRS</td><td>Missing</td><td>2009-03-06 07:56:18.586000</td><td>None</td><td>PID50367</td><td>None</td></tr>\n",
       "<tr><td>2MASS J04455387-3048204</td><td>https://s3.amazonaws.com/bdnyc/0445-3048.txt</td><td>None</td><td>$BDNYC_spectra/IRS/0445-3048.txt</td><td>mir</td><td>Spitzer</td><td>IRS</td><td>SL</td><td>2005-03-14 12:24:05.373000</td><td>None</td><td>PID3136</td><td>None</td></tr>\n",
       "<tr><td>2MASS J05012406-0010452</td><td>https://s3.amazonaws.com/bdnyc/0501-0010.txt</td><td>None</td><td>$BDNYC_spectra/IRS/0501-0010.txt</td><td>mir</td><td>Spitzer</td><td>IRS</td><td>SL</td><td>2008-11-12 03:43:34.999000</td><td>None</td><td>PID50059</td><td>None</td></tr>\n",
       "<tr><td>GJ 1111</td><td>https://s3.amazonaws.com/bdnyc/0829%2B2646+%2814-35um%29.txt</td><td>None</td><td>$BDNYC_spectra/IRS/0829+2646 (14-35um).txt</td><td>mir</td><td>Spitzer</td><td>IRS</td><td>LL</td><td>2006-05-18 00:00:00.000000</td><td>None</td><td>PID20409</td><td>None</td></tr>\n",
       "<tr><td>2MASS J04390101-2353083</td><td>https://s3.amazonaws.com/bdnyc/0439-2353.txt</td><td>None</td><td>$BDNYC_spectra/IRS/0439-2353.txt</td><td>mir</td><td>Spitzer</td><td>IRS</td><td>SL</td><td>2005-02-18 03:53:36.569000</td><td>None</td><td>PID3136</td><td>None</td></tr>\n",
       "</table></div>"
      ],
      "text/plain": [
       "<Table length=55>\n",
       "         source          ... other_references\n",
       "         str24           ...      object     \n",
       "------------------------ ... ----------------\n",
       "                   VB 10 ...             None\n",
       " 2MASS J10042066+5022596 ...             None\n",
       " 2MASS J10224821+5825453 ...             None\n",
       " 2MASS J12392727+5515371 ...             None\n",
       " 2MASS J00001354+2554180 ...             None\n",
       " 2MASS J07464256+2000321 ...             None\n",
       " 2MASS J20575409-0252302 ...             None\n",
       "              LP  440-52 ...             None\n",
       " 2MASS J12373919+6526148 ...             None\n",
       "                     ... ...              ...\n",
       " 2MASS J00345157+0523050 ...             None\n",
       " 2MASS J10365305-3441380 ...             None\n",
       " 2MASS J17210390+3344160 ...             None\n",
       " 2MASS J11145133-2618235 ...             None\n",
       " 2MASS J10170754+1308398 ...             None\n",
       "DENIS-P J144137.2-094558 ...             None\n",
       " 2MASS J04455387-3048204 ...             None\n",
       " 2MASS J05012406-0010452 ...             None\n",
       "                 GJ 1111 ...             None\n",
       " 2MASS J04390101-2353083 ...             None"
      ]
     },
     "execution_count": 37,
     "metadata": {},
     "output_type": "execute_result"
    }
   ],
   "source": [
    "spectra_pid_query = \"SELECT * FROM Spectra WHERE reference LIKE 'PID%'\"\n",
    "print(f\"Found {len(db.sql_query(spectra_pid_query))} spectra with PID references in the database\")\n",
    "db.sql_query(spectra_pid_query, fmt='astropy')\n"
   ]
  },
  {
   "cell_type": "markdown",
   "id": "f77f960b",
   "metadata": {},
   "source": [
    "## Using SQLAlchemy Query Functions"
   ]
  },
  {
   "cell_type": "markdown",
   "id": "c3a3234d",
   "metadata": {},
   "source": [
    "#### SQL via SQLalchemy "
   ]
  },
  {
   "cell_type": "code",
   "execution_count": 16,
   "id": "0f1277e8",
   "metadata": {},
   "outputs": [
    {
     "name": "stdout",
     "output_type": "stream",
     "text": [
      "First 10 Sources (Raw SQL):\n",
      "Source: 2MASS J03552014+1439297, RA: 58.83375, Dec: 14.658056\n",
      "Source: 1RXS J115928.5-524717, RA: 179.864, Dec: -52.7886\n",
      "Source: ULAS J114925.58-014343.2, RA: 177.3569, Dec: -1.7287\n",
      "Source: DENIS-P J1756561-480509, RA: 269.2342, Dec: -48.086\n",
      "Source: PSO J024.4369+09.1360, RA: 24.4372, Dec: 9.1366\n",
      "Source: SDSS J161420.50+004643.6, RA: 243.585, Dec: 0.7785\n",
      "Source: SDSS J094903.15+264944.2, RA: 147.2633, Dec: 26.8288\n",
      "Source: SDSS J083717.21-000018.0, RA: 129.3215835, Dec: -0.004972\n",
      "Source: 2MASS J06080232-2944590, RA: 92.0097, Dec: -29.7497\n",
      "Source: 2MASS J09373487+2931409, RA: 144.395292, Dec: 29.528028\n",
      "\n",
      "Spectra from IRS instrument (first 5):\n",
      "Source: SDSS J083717.21-000018.0, Telescope: Spitzer\n",
      "\n",
      "WISE sources with spectra (first 5):\n",
      "Source: WISE J235402.77+024015.0, Telescope: JWST, Instrument: MIRI\n",
      "Source: WISE J235402.77+024015.0, Telescope: JWST, Instrument: NIRSpec\n",
      "Source: WISE J235402.77+024015.0, Telescope: HST, Instrument: WFC3\n",
      "Source: WISEP J031325.96+780744.2, Telescope: JWST, Instrument: MIRI\n",
      "Source: WISEP J031325.96+780744.2, Telescope: JWST, Instrument: NIRSpec\n",
      "\n",
      "Top 3 references by number of sources:\n",
      "Reference: Schm10.1808, Count: 208\n",
      "Reference: Reid08.1290, Count: 206\n",
      "Reference: West08, Count: 194\n",
      "Source: 2MASS J09373487+2931409, Telescope: Spitzer\n",
      "\n",
      "WISE sources with spectra (first 5):\n",
      "Source: WISE J235402.77+024015.0, Telescope: JWST, Instrument: MIRI\n",
      "Source: WISE J235402.77+024015.0, Telescope: JWST, Instrument: NIRSpec\n",
      "Source: WISE J235402.77+024015.0, Telescope: HST, Instrument: WFC3\n",
      "Source: WISEP J031325.96+780744.2, Telescope: JWST, Instrument: MIRI\n",
      "Source: WISEP J031325.96+780744.2, Telescope: JWST, Instrument: NIRSpec\n",
      "\n",
      "Top 3 references by number of sources:\n",
      "Reference: Schm10.1808, Count: 208\n",
      "Reference: Reid08.1290, Count: 206\n",
      "Reference: West08, Count: 194\n",
      "Source: 2MASS J09373487+2931409, Telescope: Spitzer\n",
      "\n",
      "WISE sources with spectra (first 5):\n",
      "Source: WISE J235402.77+024015.0, Telescope: JWST, Instrument: MIRI\n",
      "Source: WISE J235402.77+024015.0, Telescope: JWST, Instrument: NIRSpec\n",
      "Source: WISE J235402.77+024015.0, Telescope: HST, Instrument: WFC3\n",
      "Source: WISEP J031325.96+780744.2, Telescope: JWST, Instrument: MIRI\n",
      "Source: WISEP J031325.96+780744.2, Telescope: JWST, Instrument: NIRSpec\n",
      "\n",
      "Top 3 references by number of sources:\n",
      "Reference: Schm10.1808, Count: 208\n",
      "Reference: Reid08.1290, Count: 206\n",
      "Reference: West08, Count: 194\n",
      "Source: VB 10, Telescope: Spitzer\n",
      "\n",
      "WISE sources with spectra (first 5):\n",
      "Source: WISE J235402.77+024015.0, Telescope: JWST, Instrument: MIRI\n",
      "Source: WISE J235402.77+024015.0, Telescope: JWST, Instrument: NIRSpec\n",
      "Source: WISE J235402.77+024015.0, Telescope: HST, Instrument: WFC3\n",
      "Source: WISEP J031325.96+780744.2, Telescope: JWST, Instrument: MIRI\n",
      "Source: WISEP J031325.96+780744.2, Telescope: JWST, Instrument: NIRSpec\n",
      "\n",
      "Top 3 references by number of sources:\n",
      "Reference: Schm10.1808, Count: 208\n",
      "Reference: Reid08.1290, Count: 206\n",
      "Reference: West08, Count: 194\n",
      "Source: VB 10, Telescope: Spitzer\n",
      "\n",
      "WISE sources with spectra (first 5):\n",
      "Source: WISE J235402.77+024015.0, Telescope: JWST, Instrument: MIRI\n",
      "Source: WISE J235402.77+024015.0, Telescope: JWST, Instrument: NIRSpec\n",
      "Source: WISE J235402.77+024015.0, Telescope: HST, Instrument: WFC3\n",
      "Source: WISEP J031325.96+780744.2, Telescope: JWST, Instrument: MIRI\n",
      "Source: WISEP J031325.96+780744.2, Telescope: JWST, Instrument: NIRSpec\n",
      "\n",
      "Top 3 references by number of sources:\n",
      "Reference: Schm10.1808, Count: 208\n",
      "Reference: Reid08.1290, Count: 206\n",
      "Reference: West08, Count: 194\n"
     ]
    }
   ],
   "source": [
    "from sqlalchemy import text\n",
    "\n",
    "# Using connection from the existing database\n",
    "with db.engine.connect() as conn:\n",
    "    \n",
    "    # Query all sources\n",
    "    result = conn.execute(text(\"SELECT * FROM Sources LIMIT 10\"))\n",
    "    print(\"First 10 Sources (Raw SQL):\")\n",
    "    for row in result:\n",
    "        print(f\"Source: {row.source}, RA: {row.ra}, Dec: {row.dec}\")\n",
    "\n",
    "    # Find spectra with a specific instrument\n",
    "    result = conn.execute(\n",
    "        text(\"SELECT * FROM Spectra WHERE instrument = :instrument LIMIT 5\"),\n",
    "        {\"instrument\": \"IRS\"}\n",
    "    )\n",
    "    print(\"\\nSpectra from IRS instrument (first 5):\")\n",
    "    for row in result:\n",
    "        print(f\"Source: {row.source}, Telescope: {row.telescope}\")\n",
    "\n",
    "        # Join query - find all spectra for sources with names containing \"WISE\"\n",
    "        result = conn.execute(\n",
    "            text(\"\"\"\n",
    "            SELECT Sources.source, Spectra.telescope, Spectra.instrument\n",
    "            FROM Sources \n",
    "            JOIN Spectra ON Sources.source = Spectra.source\n",
    "            WHERE Sources.source LIKE :pattern\n",
    "            LIMIT 5\n",
    "            \"\"\"),\n",
    "            {\"pattern\": \"%WISE%\"}\n",
    "        )\n",
    "        print(\"\\nWISE sources with spectra (first 5):\")\n",
    "        for row in result:\n",
    "            print(f\"Source: {row.source}, Telescope: {row.telescope}, Instrument: {row.instrument}\")\n",
    "            \n",
    "        # Aggregate query - count sources by publication reference\n",
    "        result = conn.execute(\n",
    "            text(\"\"\"\n",
    "            SELECT reference, COUNT(*) as count \n",
    "            FROM Sources \n",
    "            GROUP BY reference \n",
    "            ORDER BY count DESC\n",
    "            LIMIT 3\n",
    "            \"\"\")\n",
    "        )\n",
    "        print(\"\\nTop 3 references by number of sources:\")\n",
    "        for row in result:\n",
    "            print(f\"Reference: {row.reference}, Count: {row.count}\")\n"
   ]
  }
 ],
 "metadata": {
  "kernelspec": {
   "display_name": "simple-db",
   "language": "python",
   "name": "python3"
  },
  "language_info": {
   "codemirror_mode": {
    "name": "ipython",
    "version": 3
   },
   "file_extension": ".py",
   "mimetype": "text/x-python",
   "name": "python",
   "nbconvert_exporter": "python",
   "pygments_lexer": "ipython3",
   "version": "3.12.10"
  }
 },
 "nbformat": 4,
 "nbformat_minor": 5
}
