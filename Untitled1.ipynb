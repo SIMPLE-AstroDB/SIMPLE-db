{
 "cells": [
  {
   "cell_type": "code",
   "execution_count": 4,
   "id": "b34154c1-fa6e-41ec-8dc9-fcd8510d2442",
   "metadata": {},
   "outputs": [],
   "source": [
    "from astrodbkit2.astrodb import create_database,Database\n",
    "from simple.schema import *"
   ]
  },
  {
   "cell_type": "code",
   "execution_count": null,
   "id": "86c5d940-7ebd-4368-bae3-8ce59c468d57",
   "metadata": {},
   "outputs": [],
   "source": []
  }
 ],
 "metadata": {
  "kernelspec": {
   "display_name": "Python 3 (ipykernel)",
   "language": "python",
   "name": "python3"
  },
  "language_info": {
   "codemirror_mode": {
    "name": "ipython",
    "version": 3
   },
   "file_extension": ".py",
   "mimetype": "text/x-python",
   "name": "python",
   "nbconvert_exporter": "python",
   "pygments_lexer": "ipython3",
   "version": "3.11.5"
  }
 },
 "nbformat": 4,
 "nbformat_minor": 5
}
